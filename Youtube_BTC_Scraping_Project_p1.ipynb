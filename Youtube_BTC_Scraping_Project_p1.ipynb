{
 "cells": [
  {
   "cell_type": "code",
   "execution_count": 1,
   "id": "composite-roads",
   "metadata": {},
   "outputs": [],
   "source": [
    "# Import Libraries\n",
    "import time\n",
    "from selenium.webdriver import Chrome\n",
    "from selenium.webdriver.chrome.service import Service\n",
    "from selenium.webdriver.common.by import By\n",
    "from selenium.webdriver.common.keys import Keys\n",
    "from selenium.webdriver.support.ui import WebDriverWait, Select\n",
    "from selenium.webdriver.support import expected_conditions as ec\n",
    "from webdriver_manager.chrome import ChromeDriverManager\n",
    "from selenium.webdriver.common.action_chains import ActionChains\n",
    "import pandas as pd\n",
    "import numpy as np\n",
    "from selenium import webdriver\n",
    "from bs4 import BeautifulSoup as bs\n",
    "import os"
   ]
  },
  {
   "cell_type": "code",
   "execution_count": 2,
   "id": "cb7f6577",
   "metadata": {
    "scrolled": true
   },
   "outputs": [
    {
     "name": "stdout",
     "output_type": "stream",
     "text": [
      "\n"
     ]
    },
    {
     "name": "stderr",
     "output_type": "stream",
     "text": [
      "[WDM] - ====== WebDriver manager ======\n",
      "[WDM] - Current google-chrome version is 102.0.5005\n",
      "[WDM] - Get LATEST chromedriver version for 102.0.5005 google-chrome\n",
      "[WDM] - About to download new driver from https://chromedriver.storage.googleapis.com/102.0.5005.61/chromedriver_win32.zip\n",
      "[WDM] - Driver has been saved in cache [C:\\Users\\Thefuckingboss\\.wdm\\drivers\\chromedriver\\win32\\102.0.5005.61]\n"
     ]
    }
   ],
   "source": [
    "driver = webdriver.Chrome(service=Service(ChromeDriverManager().install()))\n",
    "profile = \"https://www.youtube.com/watch?v=bBC-nXj3Ng4&t=1229s&ab_channel=3Blue1Brown\" \n",
    "driver.get(profile)\n",
    "wait = WebDriverWait(driver, 10)"
   ]
  },
  {
   "cell_type": "code",
   "execution_count": 3,
   "id": "29c2abd3",
   "metadata": {},
   "outputs": [],
   "source": [
    "# Accept Cookies\n",
    "driver.find_element(by=By.XPATH, value = '/html/body/ytd-app/ytd-consent-bump-v2-lightbox/tp-yt-paper-dialog/div[4]/div/div[6]/div[1]/ytd-button-renderer[2]').click()\n",
    "time.sleep(3)"
   ]
  },
  {
   "cell_type": "code",
   "execution_count": 4,
   "id": "2da9d768",
   "metadata": {},
   "outputs": [],
   "source": [
    "# Pause Video\n",
    "driver.find_element(by=By.XPATH, value = '//*[@id=\"movie_player\"]/div[1]/video').click()"
   ]
  },
  {
   "cell_type": "code",
   "execution_count": 5,
   "id": "a76240ed",
   "metadata": {},
   "outputs": [],
   "source": [
    "# Find Options\n",
    "driver.find_element(by=By.XPATH, value ='/html/body/ytd-app/div[1]/div/ytd-masthead/div[3]/div[3]/div[2]/ytd-topbar-menu-button-renderer[2]/div/a/yt-icon-button').click()"
   ]
  },
  {
   "cell_type": "code",
   "execution_count": 6,
   "id": "b165101c",
   "metadata": {},
   "outputs": [],
   "source": [
    "#  Open Language Options\n",
    "driver.find_element(by=By.XPATH, value ='//*[@id=\"endpoint\"]/tp-yt-paper-item').click()"
   ]
  },
  {
   "cell_type": "code",
   "execution_count": 7,
   "id": "7c5c323f",
   "metadata": {},
   "outputs": [],
   "source": [
    "#  Select English\n",
    "driver.find_element(by=By.XPATH, value ='//*[@id=\"items\"]/ytd-compact-link-renderer[12]').click()\n",
    "time.sleep(1)"
   ]
  },
  {
   "cell_type": "code",
   "execution_count": 8,
   "id": "d366d567",
   "metadata": {},
   "outputs": [],
   "source": [
    "# Pause Video\n",
    "driver.find_element(by=By.XPATH, value = '//*[@id=\"movie_player\"]/div[1]/video').click()\n",
    "time.sleep(1)"
   ]
  },
  {
   "cell_type": "code",
   "execution_count": 9,
   "id": "b1f06601",
   "metadata": {},
   "outputs": [],
   "source": [
    "# click show more button\n",
    "element = driver.find_element(by=By.XPATH, value='/html/body/ytd-app/div[1]/ytd-page-manager/ytd-watch-flexy/div[5]/div[1]/div/div[8]/div[2]/div[2]/ytd-video-secondary-info-renderer/div/ytd-expander/tp-yt-paper-button[2]')\n",
    "actions = ActionChains(driver)\n",
    "actions.move_to_element(element).perform()\n",
    "element.click()"
   ]
  },
  {
   "cell_type": "code",
   "execution_count": 20,
   "id": "3c48dbc2",
   "metadata": {},
   "outputs": [
    {
     "name": "stdout",
     "output_type": "stream",
     "text": [
      "2\n",
      "title : But how does bitcoin actually work?\n",
      "pub date : \n",
      "1\n",
      "clicks : \n",
      "50\n",
      "likes : 322K\n",
      "dislikes : DISLIKE\n",
      "1\n",
      "publisher : 3Blue1Brown\n",
      "1\n",
      "subscribers : 4.59M subscribers\n",
      "5\n",
      "description : ['', '', '', 'The math behind cryptocurrencies.\\nHelp fund future projects: https://www.patreon.com/3blue1brown\\nAn equally valuable form of support is to simply share some of the videos.\\nSpecial thanks to these supporters: http://3b1b.co/btc-thanks\\nThis video was also funded with help from Protocol Labs: https://protocol.ai/join/\\n\\nSome people have asked if this channel accepts contributions in cryptocurrency form.  As a matter of fact, it does:\\nhttp://3b1b.co/crypto\\nENS: 3b1b.eth\\n\\n2^256 video: https://youtu.be/S9JGmA5_unY\\n\\nMusic by Vincent Rubinetti: https://soundcloud.com/vincerubinetti...\\n\\nHere are a few other resources I\\'d recommend:\\n\\nOriginal Bitcoin paper: https://bitcoin.org/bitcoin.pdf\\n\\nBlock explorer: https://blockexplorer.com/\\n\\nBlog post by Michael Nielsen: https://goo.gl/BW1RV3\\n(This is particularly good for understanding the details of what transactions look like, which is something this video did not cover)\\n\\nVideo by CuriousInventor: https://youtu.be/Lx9zgZCMqXE\\n\\nVideo by Anders Brownworth: https://youtu.be/_160oMzblY8\\n\\nEthereum white paper: https://goo.gl/XXZddT\\n\\n------------------\\nAnimations largely made using manim, a scrappy open source python library.  https://github.com/3b1b/manim\\n\\nIf you want to check it out, I feel compelled to warn you that it\\'s not the most well-documented tool, and has many other quirks you might expect in a library someone wrote with only their own use in mind.\\n\\nMusic by Vincent Rubinetti.\\nDownload the music on Bandcamp:\\nhttps://vincerubinetti.bandcamp.com/a...\\n\\nStream the music on Spotify:\\nhttps://open.spotify.com/album/1dVyjw...\\n\\nIf you want to contribute translated subtitles or to help review those that have already been made by others and need approval, you can click the gear icon in the video and go to subtitles/cc, then \"add subtitles/cc\".  I really appreciate those who do this, as it helps make the lessons accessible to more people.\\n------------------\\n\\n3blue1brown is a channel about animating math, in all senses of the word animate.  And you know the drill with YouTube, if you want to stay posted on new videos, subscribe, and click the bell to receive notifications (if you\\'re into that).\\n\\nIf you are new to this channel and want to see more, a good place to start is this playlist: http://3b1b.co/recommended\\n\\nVarious social media stuffs:\\nWebsite: https://www.3blue1brown.com\\nTwitter: https://twitter.com/3Blue1Brown\\nPatreon: https://patreon.com/3blue1brown\\nFacebook: https://www.facebook.com/3blue1brown\\nReddit: https://www.reddit.com/r/3Blue1Brown\\nFeatured playlist\\n21 videos\\nExplainers\\n3Blue1Brown', 'Explainers\\n3Blue1Brown']\n"
     ]
    }
   ],
   "source": [
    "# scrape general meta data\n",
    "#title and publish date\n",
    "find_title = driver.find_elements(by=By.XPATH, value=\"//yt-formatted-string[@class='style-scope ytd-video-primary-info-renderer']\") \n",
    "title = find_title[0].text\n",
    "pub_date = find_title[1].text\n",
    "\n",
    "print(len(find_title))\n",
    "print(\"title :\", title)\n",
    "print(\"pub date :\", pub_date)\n",
    "\n",
    "#clicks\n",
    "find_clicks = driver.find_elements(by=By.XPATH, value=\"//*[@id='count']/ytd-video-view-count-renderer/span[1]\") \n",
    "clicks = find_clicks[0].text\n",
    "\n",
    "print(len(find_clicks))\n",
    "print(\"clicks :\",clicks)\n",
    "\n",
    "#likes, dislikes\n",
    "find_likes = driver.find_elements(by=By.XPATH, value='//*[@id=\"text\"]') \n",
    "likes = find_likes[2].text\n",
    "dislikes = find_likes[3].text\n",
    "\n",
    "print(len(find_likes))\n",
    "print(\"likes :\",likes)\n",
    "print(\"dislikes :\",dislikes)\n",
    "\n",
    "# publisher\n",
    "find_pub = driver.find_elements(by=By.XPATH, value='//*[@id=\"text\"]/a') \n",
    "publisher = find_pub[0].text\n",
    "\n",
    "print(len(find_pub))\n",
    "print(\"publisher :\",publisher)\n",
    "\n",
    "# subscribers\n",
    "find_subsc = driver.find_elements(by=By.XPATH, value='//*[@id=\"owner-sub-count\"]') \n",
    "subscrib = find_subsc[0].text\n",
    "\n",
    "print(len(find_subsc))\n",
    "print(\"subscribers :\",subscrib)\n",
    "\n",
    "#description\n",
    "find_descr = driver.find_elements(by=By.XPATH, value='//*[@id=\"description\"]') \n",
    "description = []\n",
    "for x in range (len(find_descr)): \n",
    "    description.append(find_descr[x].text)\n",
    "\n",
    "print(len(find_descr))\n",
    "print(\"description :\",description)"
   ]
  },
  {
   "cell_type": "code",
   "execution_count": 21,
   "id": "d309c290",
   "metadata": {},
   "outputs": [
    {
     "name": "stdout",
     "output_type": "stream",
     "text": [
      "0\n",
      "1\n"
     ]
    }
   ],
   "source": [
    "# perform infinite scroll down\n",
    "spanned = 2 # --> the larger the longer waiting\n",
    "\n",
    "for k in range(spanned): \n",
    "    html = driver.find_element(by=By.TAG_NAME, value='html')\n",
    "    html.send_keys(Keys.END)\n",
    "    print(k)\n",
    "    time.sleep(2) # adjust waiting time if necessary\n",
    "# TBD : scroll down until i find the button"
   ]
  },
  {
   "cell_type": "code",
   "execution_count": 22,
   "id": "882287cf",
   "metadata": {},
   "outputs": [],
   "source": [
    "# Scroll the \"sort by\" button into view\n",
    "from selenium.webdriver.common.action_chains import ActionChains\n",
    "\n",
    "element = driver.find_element(by=By.XPATH, value='//*[@id=\"sort-menu\"]/yt-sort-filter-sub-menu-renderer/yt-dropdown-menu/tp-yt-paper-menu-button')\n",
    "\n",
    "actions = ActionChains(driver)\n",
    "actions.move_to_element(element).perform()"
   ]
  },
  {
   "cell_type": "code",
   "execution_count": 23,
   "id": "54042caa",
   "metadata": {},
   "outputs": [],
   "source": [
    "# sort comments - open sort\n",
    "#first click\n",
    "btn = driver.find_element(by=By.XPATH, value='//*[@id=\"sort-menu\"]/yt-sort-filter-sub-menu-renderer/yt-dropdown-menu/tp-yt-paper-menu-button')\n",
    "btn.click()\n",
    "time.sleep(2) #--> adjust if necessary for more waiting time"
   ]
  },
  {
   "cell_type": "code",
   "execution_count": 24,
   "id": "1a817512",
   "metadata": {},
   "outputs": [],
   "source": [
    "#second click:  top comments\n",
    "driver.find_element(by=By.XPATH, value='/html/body/ytd-app/div[1]/ytd-page-manager/ytd-watch-flexy/div[5]/div[1]/div/ytd-comments/ytd-item-section-renderer/div[1]/ytd-comments-header-renderer/div[1]/span/yt-sort-filter-sub-menu-renderer/yt-dropdown-menu/tp-yt-paper-menu-button/tp-yt-iron-dropdown/div/div/tp-yt-paper-listbox/a[1]/tp-yt-paper-item').click()"
   ]
  },
  {
   "cell_type": "code",
   "execution_count": 25,
   "id": "93daf80c",
   "metadata": {},
   "outputs": [],
   "source": [
    "# empty arrays to be filled\n",
    "comments =[]\n",
    "users = []\n",
    "likes = []\n",
    "time_stamp = []"
   ]
  },
  {
   "cell_type": "code",
   "execution_count": 26,
   "id": "db5b06d8",
   "metadata": {},
   "outputs": [
    {
     "name": "stdout",
     "output_type": "stream",
     "text": [
      "0\n",
      "1\n"
     ]
    }
   ],
   "source": [
    "# perform infinite scroll down\n",
    "spanned = 2 # --> the larger the longer waiting\n",
    "\n",
    "for k in range(spanned): \n",
    "    html = driver.find_element(by=By.TAG_NAME, value='html')\n",
    "    html.send_keys(Keys.END)\n",
    "    print(k)\n",
    "    time.sleep(2) # adjust waiting time if necessary"
   ]
  },
  {
   "cell_type": "code",
   "execution_count": 27,
   "id": "3aa7dfb5",
   "metadata": {},
   "outputs": [],
   "source": [
    "time.sleep(2)"
   ]
  },
  {
   "cell_type": "code",
   "execution_count": 28,
   "id": "a156222a",
   "metadata": {},
   "outputs": [
    {
     "name": "stdout",
     "output_type": "stream",
     "text": [
      "36\n"
     ]
    }
   ],
   "source": [
    "# Replies_1: Find all Reply buttons\n",
    "reply_buttons = driver.find_elements(By.XPATH, value = \"/html/body/ytd-app/div[1]/ytd-page-manager/ytd-watch-flexy/div[5]/div[1]/div/ytd-comments/ytd-item-section-renderer/div[3]/ytd-comment-thread-renderer/div/ytd-comment-replies-renderer/div[1]/div[1]/div[1]/ytd-button-renderer/a/tp-yt-paper-button/yt-formatted-string\")\n",
    "length = len(reply_buttons)\n",
    "print(length)\n",
    "time.sleep(4)"
   ]
  },
  {
   "cell_type": "code",
   "execution_count": 29,
   "id": "19618d58",
   "metadata": {},
   "outputs": [],
   "source": [
    "# jump back to top\n",
    "element = driver.find_element(by=By.XPATH, value='//*[@id=\"sort-menu\"]/yt-sort-filter-sub-menu-renderer/yt-dropdown-menu/tp-yt-paper-menu-button')\n",
    "actions = ActionChains(driver)\n",
    "actions.move_to_element(element).perform()\n",
    "\n",
    "# Replies_2: click the 2-nth reply buttons over the length of the vector\n",
    "for i in range(0, length):\n",
    "    reply_buttons[i].click()\n",
    "    time.sleep(3)\n",
    "# this may take a while. Reduce the scroll-down above to gather less reply data"
   ]
  },
  {
   "cell_type": "code",
   "execution_count": 30,
   "id": "bc713750",
   "metadata": {},
   "outputs": [],
   "source": [
    "element = driver.find_element(by=By.XPATH, value='//*[@id=\"sort-menu\"]/yt-sort-filter-sub-menu-renderer/yt-dropdown-menu/tp-yt-paper-menu-button')\n",
    "actions = ActionChains(driver)\n",
    "actions.move_to_element(element).perform()"
   ]
  },
  {
   "cell_type": "code",
   "execution_count": 31,
   "id": "be5faa23",
   "metadata": {},
   "outputs": [],
   "source": [
    "# expand main comments (only one level)\n",
    "read_more_buttons = driver.find_elements(By.XPATH, value = '/html/body/ytd-app/div/ytd-page-manager/ytd-watch-flexy/div/div/div/ytd-comments/ytd-item-section-renderer/div/ytd-comment-thread-renderer/ytd-comment-renderer/div/div/ytd-expander/tp-yt-paper-button[@id=\"more\" and not(@hidden=\"\")]')\n",
    "length = len(read_more_buttons)\n",
    "# read_more\n",
    "for i in range(0, length):\n",
    "    actions = ActionChains(driver)\n",
    "    actions.move_to_element(read_more_buttons[i]).perform()\n",
    "    read_more_buttons[i].click()\n",
    "    time.sleep(2)"
   ]
  },
  {
   "cell_type": "code",
   "execution_count": 32,
   "id": "858fc95e",
   "metadata": {},
   "outputs": [],
   "source": [
    "# expand long replies \n",
    "read_more_buttons_replies = driver.find_elements(By.XPATH, value = '/html/body/ytd-app/div[1]/ytd-page-manager/ytd-watch-flexy/div/div/div/ytd-comments/ytd-item-section-renderer/div/ytd-comment-thread-renderer/div/ytd-comment-replies-renderer/div/div/div/ytd-comment-renderer/div/div/ytd-expander/tp-yt-paper-button[@id=\"more\" and not(@hidden=\"\")]')\n",
    "length = len(read_more_buttons_replies)\n",
    "# read_more\n",
    "for i in range(0, length):\n",
    "    actions = ActionChains(driver)\n",
    "    actions.move_to_element(read_more_buttons_replies[i]).perform()\n",
    "    read_more_buttons_replies[i].click()\n",
    "    time.sleep(2)"
   ]
  },
  {
   "cell_type": "code",
   "execution_count": 433,
   "id": "6504e3f5",
   "metadata": {},
   "outputs": [],
   "source": [
    "#driver.execute_script(\"arguments[0].scrollIntoView(true);\", read_more_buttons[2]);    \n",
    "#read_more_buttons[2].click();"
   ]
  },
  {
   "cell_type": "code",
   "execution_count": 33,
   "id": "611fc7a7",
   "metadata": {},
   "outputs": [
    {
     "name": "stdout",
     "output_type": "stream",
     "text": [
      "171\n",
      "['', 'Samuel Luce', 'Rjley Kassya', 'Onions?', 'Caden', 'Roland Dennis', 'Roland Dennis', 'S. Giles', 'Caden', 'joe schultz', 'Rhodium Thunderbird', 'Harsh Chikorde', 'Vikas V', 'iTr00oW', 'Gian', 'The Optimist', 'Pumpkin Man', 'Stephan Stross', 'surferriness', 'Vasquez Electronics', 'TheAwesomeDudeGuy', 'Kris', 'Shubham Joshi', 'A M', 'Hynek Zemanec', 'David Levesque', 'gamewizl', 'Tushar Menon', '', 'Christian Peters', 'meiamsome', 'Christian Peters', 'Tyko Brian', 'Rumford Chimpenstein', 'Nathan Richan', 'Scalz', 'vRoxyy', 'OOO', 'James Matthew', 'Mike Fochtman', 'Henry Green', 'Hire 👉🌐EagleSpy . Net', 'Jeremiah Price', 'Make use of thespacehackersCom👈🏻', 'Alberto T.', 'Rrestoring faith', 'Khaled Ratul', 'Khaled Ratul', 'Carson Allaby', 'ashok845', 'Kader Galip', 'Dan Traficonte', 'H R', 'Jack Frederiksen', 'ganondorfchampin', 'ILIKETURTLES', 'yoel haile', 'LTCAproductions', 'J3GJ', 'IncomeSourcer', 'J3GJ', 'IncomeSourcer', 'J3GJ', 'David Nguyen', 'Spencer Rajam', 'James Matthew', 'Laukik Ragji', 'whatsapp±①④⓪⑦⑧④⑧⑤⑤⑨①', 'lotroy', 'whatsapp±①④⓪⑦⑧④⑧⑤⑤⑨①', 'Frank williams', 'whatsapp±①④⓪⑦⑧④⑧⑤⑤⑨①', 'Robin Tunley', 'Cesar Moreno', 'Scott Lane', 'y', 'awd', 'awd', 'Data Science', 'Jessic kidopolis', 'M H-W', 'steven cooke', 'Galactea', 'robert Yeung', '𝙒𝙒𝙒●𝘾𝙍𝙀𝘿𝙄𝙏𝘽𝘼𝘾𝙆𝘿𝙊𝙊𝙍𝙎●𝘾𝙊𝙈', 'whatsapp±①④⓪⑦⑧④⑧⑤⑤⑨①', 'Crabby Hayes', 'Theo Pantamis', 'Crabby Hayes', 'Theo Pantamis', 'LisaAlbert::::::::::hackerrambosmart1 On telegram', 'Bayesic', '十①④⑧⓪③⑤⑨④⑦①⑤WhatsappAdmin', '十①④⑧⓪③⑤⑨④⑦①⑤WhatsappAdmin', 'Matthew Snee', 'Alberto T.', 'Chem Man Dan', 'Arthur Kania', 'Victor Iațco', 'STAsi0 23', 'sormu16', 'Andrei Antonescu', 'whatsapp±①④⓪⑦⑧④⑧⑤⑤⑨①', 'Ahmad Syarif', 'whatsapp±①④⓪⑦⑧④⑧⑤⑤⑨①', 'Biswajit Basak', 'whatsapp±①④⓪⑦⑧④⑧⑤⑤⑨①', 'Andreas Rohrer', 'whatsapp±①④⓪⑦⑧④⑧⑤⑤⑨①', 'RachMc95', 'Johnny W', 'big clover', 'Daniel Cawley', 'Marek P', 'whatsapp±①④⓪⑦⑧④⑧⑤⑤⑨①', 'Jordan Z', 'Nikola Gushterov', 'whatsapp±①④⓪⑦⑧④⑧⑤⑤⑨①', 'Bamba Zillah', 'Erdem Memisyazici', 'Erdem Memisyazici', 'Andy B', 'Erdem Memisyazici', 'K1naku5ana3R1ka', 'Georgi DROLET', 'Georgi DROLET', 'Georgi DROLET', 'Nikolaos Mark', 'Zoltán Kürti', 'Geldi Oyunların Prosu', 'Sagar Tyagi', 'James Edington', 'JMacSD', 'RW Aquarium Pages', 'whatsapp±①④⓪⑦⑧④⑧⑤⑤⑨①', 'Kadek Satriadi', 'Rizki Rahmanda', 'Rrestoring faith', 'Daniel Cawley', 'Combat Douglas', 'whatsapp±①④⓪⑦⑧④⑧⑤⑤⑨①', 'RachMc95', 'J Payne', 'J Payne', 'Life with Rosana', 'vivek k', 'Michael Bradley', 'busyrand', 'μ', 'Mark Vartanyan', 'Jim Greene', 'whatsapp±①④⓪⑦⑧④⑧⑤⑤⑨①', 'mehrdad jam', 'GCrypto Gaming', 'vivek k', 'Michael Bradley', 'David Never Sleeps', 'WarHammer3', 'Nizam Khan', 'meta04', 'สุเมธ สุเมธเทพานันท์', 'whatsapp±①④⓪⑦⑧④⑧⑤⑤⑨①', 'A Nayak', 'Rubiales Contact HACKERCYBERGHOSTon telegram', 'Carolyn Oconnor', 'Ben Donahower', 'Warrior Trading', 'Dedmen Miller', 'CHITUS💙⸻⸻⸻⸻⸻⸻⸻⸻⸻⸻⸻⸻⸻⸻⸻⸻⸻⸻⸻⸻⸻⸻⸻⸻⸻⸻⸻⸻⸻⸻⸻⸻⸻⸻⸻⸻⸻⸻⸻⸻⸻⸻', 'whatsapp±①④⓪⑦⑧④⑧⑤⑤⑨①', 'Abhay Gautam']\n"
     ]
    }
   ],
   "source": [
    "# get user names\n",
    "users = []\n",
    "find = driver.find_elements(by=By.XPATH, value='//*[@id=\"author-text\"]/span')\n",
    "for user_name in find:\n",
    "        users.append(user_name.text)\n",
    "print(len(users))\n",
    "print(users)"
   ]
  },
  {
   "cell_type": "code",
   "execution_count": 34,
   "id": "b1467449",
   "metadata": {},
   "outputs": [
    {
     "data": {
      "text/plain": [
       "['3Blue1Brown',\n",
       " 'Samuel Luce',\n",
       " 'Rjley Kassya',\n",
       " 'Onions?',\n",
       " 'Caden',\n",
       " 'Roland Dennis',\n",
       " 'Roland Dennis',\n",
       " 'S. Giles',\n",
       " 'Caden',\n",
       " 'joe schultz',\n",
       " 'Rhodium Thunderbird',\n",
       " 'Harsh Chikorde',\n",
       " 'Vikas V',\n",
       " 'iTr00oW',\n",
       " 'Gian',\n",
       " 'The Optimist',\n",
       " 'Pumpkin Man',\n",
       " 'Stephan Stross',\n",
       " 'surferriness',\n",
       " 'Vasquez Electronics',\n",
       " 'TheAwesomeDudeGuy',\n",
       " 'Kris',\n",
       " 'Shubham Joshi',\n",
       " 'A M',\n",
       " 'Hynek Zemanec',\n",
       " 'David Levesque',\n",
       " 'gamewizl',\n",
       " 'Tushar Menon',\n",
       " '',\n",
       " 'Christian Peters',\n",
       " 'meiamsome',\n",
       " 'Christian Peters',\n",
       " 'Tyko Brian',\n",
       " 'Rumford Chimpenstein',\n",
       " 'Nathan Richan',\n",
       " 'Scalz',\n",
       " 'vRoxyy',\n",
       " 'OOO',\n",
       " 'James Matthew',\n",
       " 'Mike Fochtman',\n",
       " 'Henry Green',\n",
       " 'Hire 👉🌐EagleSpy . Net',\n",
       " 'Jeremiah Price',\n",
       " 'Make use of thespacehackersCom👈🏻',\n",
       " 'Alberto T.',\n",
       " 'Rrestoring faith',\n",
       " 'Khaled Ratul',\n",
       " 'Khaled Ratul',\n",
       " 'Carson Allaby',\n",
       " 'ashok845',\n",
       " 'Kader Galip',\n",
       " 'Dan Traficonte',\n",
       " 'H R',\n",
       " 'Jack Frederiksen',\n",
       " 'ganondorfchampin',\n",
       " 'ILIKETURTLES',\n",
       " 'yoel haile',\n",
       " 'LTCAproductions',\n",
       " 'J3GJ',\n",
       " 'IncomeSourcer',\n",
       " 'J3GJ',\n",
       " 'IncomeSourcer',\n",
       " 'J3GJ',\n",
       " 'David Nguyen',\n",
       " 'Spencer Rajam',\n",
       " 'James Matthew',\n",
       " 'Laukik Ragji',\n",
       " 'whatsapp±①④⓪⑦⑧④⑧⑤⑤⑨①',\n",
       " 'lotroy',\n",
       " 'whatsapp±①④⓪⑦⑧④⑧⑤⑤⑨①',\n",
       " 'Frank williams',\n",
       " 'whatsapp±①④⓪⑦⑧④⑧⑤⑤⑨①',\n",
       " 'Robin Tunley',\n",
       " 'Cesar Moreno',\n",
       " 'Scott Lane',\n",
       " 'y',\n",
       " 'awd',\n",
       " 'awd',\n",
       " 'Data Science',\n",
       " 'Jessic kidopolis',\n",
       " 'M H-W',\n",
       " 'steven cooke',\n",
       " 'Galactea',\n",
       " 'robert Yeung',\n",
       " '𝙒𝙒𝙒●𝘾𝙍𝙀𝘿𝙄𝙏𝘽𝘼𝘾𝙆𝘿𝙊𝙊𝙍𝙎●𝘾𝙊𝙈',\n",
       " 'whatsapp±①④⓪⑦⑧④⑧⑤⑤⑨①',\n",
       " 'Crabby Hayes',\n",
       " 'Theo Pantamis',\n",
       " 'Crabby Hayes',\n",
       " 'Theo Pantamis',\n",
       " 'LisaAlbert::::::::::hackerrambosmart1 On telegram',\n",
       " 'Bayesic',\n",
       " '十①④⑧⓪③⑤⑨④⑦①⑤WhatsappAdmin',\n",
       " '十①④⑧⓪③⑤⑨④⑦①⑤WhatsappAdmin',\n",
       " 'Matthew Snee',\n",
       " 'Alberto T.',\n",
       " 'Chem Man Dan',\n",
       " 'Arthur Kania',\n",
       " 'Victor Iațco',\n",
       " 'STAsi0 23',\n",
       " 'sormu16',\n",
       " 'Andrei Antonescu',\n",
       " 'whatsapp±①④⓪⑦⑧④⑧⑤⑤⑨①',\n",
       " 'Ahmad Syarif',\n",
       " 'whatsapp±①④⓪⑦⑧④⑧⑤⑤⑨①',\n",
       " 'Biswajit Basak',\n",
       " 'whatsapp±①④⓪⑦⑧④⑧⑤⑤⑨①',\n",
       " 'Andreas Rohrer',\n",
       " 'whatsapp±①④⓪⑦⑧④⑧⑤⑤⑨①',\n",
       " 'RachMc95',\n",
       " 'Johnny W',\n",
       " 'big clover',\n",
       " 'Daniel Cawley',\n",
       " 'Marek P',\n",
       " 'whatsapp±①④⓪⑦⑧④⑧⑤⑤⑨①',\n",
       " 'Jordan Z',\n",
       " 'Nikola Gushterov',\n",
       " 'whatsapp±①④⓪⑦⑧④⑧⑤⑤⑨①',\n",
       " 'Bamba Zillah',\n",
       " 'Erdem Memisyazici',\n",
       " 'Erdem Memisyazici',\n",
       " 'Andy B',\n",
       " 'Erdem Memisyazici',\n",
       " 'K1naku5ana3R1ka',\n",
       " 'Georgi DROLET',\n",
       " 'Georgi DROLET',\n",
       " 'Georgi DROLET',\n",
       " 'Nikolaos Mark',\n",
       " 'Zoltán Kürti',\n",
       " 'Geldi Oyunların Prosu',\n",
       " 'Sagar Tyagi',\n",
       " 'James Edington',\n",
       " 'JMacSD',\n",
       " 'RW Aquarium Pages',\n",
       " 'whatsapp±①④⓪⑦⑧④⑧⑤⑤⑨①',\n",
       " 'Kadek Satriadi',\n",
       " 'Rizki Rahmanda',\n",
       " 'Rrestoring faith',\n",
       " 'Daniel Cawley',\n",
       " 'Combat Douglas',\n",
       " 'whatsapp±①④⓪⑦⑧④⑧⑤⑤⑨①',\n",
       " 'RachMc95',\n",
       " 'J Payne',\n",
       " 'J Payne',\n",
       " 'Life with Rosana',\n",
       " 'vivek k',\n",
       " 'Michael Bradley',\n",
       " 'busyrand',\n",
       " 'μ',\n",
       " 'Mark Vartanyan',\n",
       " 'Jim Greene',\n",
       " 'whatsapp±①④⓪⑦⑧④⑧⑤⑤⑨①',\n",
       " 'mehrdad jam',\n",
       " 'GCrypto Gaming',\n",
       " 'vivek k',\n",
       " 'Michael Bradley',\n",
       " 'David Never Sleeps',\n",
       " 'WarHammer3',\n",
       " 'Nizam Khan',\n",
       " 'meta04',\n",
       " 'สุเมธ สุเมธเทพานันท์',\n",
       " 'whatsapp±①④⓪⑦⑧④⑧⑤⑤⑨①',\n",
       " 'A Nayak',\n",
       " 'Rubiales Contact HACKERCYBERGHOSTon telegram',\n",
       " 'Carolyn Oconnor',\n",
       " 'Ben Donahower',\n",
       " 'Warrior Trading',\n",
       " 'Dedmen Miller',\n",
       " 'CHITUS💙⸻⸻⸻⸻⸻⸻⸻⸻⸻⸻⸻⸻⸻⸻⸻⸻⸻⸻⸻⸻⸻⸻⸻⸻⸻⸻⸻⸻⸻⸻⸻⸻⸻⸻⸻⸻⸻⸻⸻⸻⸻⸻',\n",
       " 'whatsapp±①④⓪⑦⑧④⑧⑤⑤⑨①',\n",
       " 'Abhay Gautam']"
      ]
     },
     "execution_count": 34,
     "metadata": {},
     "output_type": "execute_result"
    }
   ],
   "source": [
    "# insert first username\n",
    "users[0] = driver.find_element(by=By.XPATH, value='/html/body/ytd-app/div[1]/ytd-page-manager/ytd-watch-flexy/div[5]/div[1]/div/ytd-comments/ytd-item-section-renderer/div[3]/ytd-comment-thread-renderer[1]/ytd-comment-renderer/div[3]/div[2]/div/div[2]/span[1]/ytd-author-comment-badge-renderer/a/ytd-channel-name/div/div/yt-formatted-string').text\n",
    "users"
   ]
  },
  {
   "cell_type": "code",
   "execution_count": 35,
   "id": "b71e9023",
   "metadata": {},
   "outputs": [
    {
     "name": "stdout",
     "output_type": "stream",
     "text": [
      "171\n"
     ]
    },
    {
     "data": {
      "text/plain": [
       "['If you see comments here about investing or brokers, they are scams.  Videos about cryptocurrencies, evidently including ones that are just about the underlying technology/math, are hotbeds for attracting nefarious actors preying on the impressionable.\\n\\nAlso, hi!  If you’re new to this channel, most of it is about visualizing math. I get it, you probably landed here searching for how BTC works, not to spend your afternoon getting pulled into learning about, say, prime numbers or problem-solving, but if you have a moment take a look at the rest of the channel, you may enjoy what you find.',\n",
       " \"I'd recommend not just reporting, but also replying to them, explaining to any potential readers how their advertisement is a scam. Commenting is quick, and could save somebody hundreds of dollars! :)\",\n",
       " 'Thank you so much Lisa',\n",
       " 'Only a matter of time before scammers come here and give you some discounts.',\n",
       " 'Wow I’m already seeing scams scrolling through the replies to this lmao.',\n",
       " \"I appreciate your efforts toward my account, I give it a try but I wasn't regretting it at least\",\n",
       " \" @MARKETINVESTMENTBINARY•COM  yeah, you're right\",\n",
       " ' @Lame Wells  Mr Crystal ate my hamster.',\n",
       " ' @S. Giles  lmaooooo',\n",
       " 'Can you do a updated video? Some of the info is outdated, and it would be really cool to see a explanation of layer 2 features like lightning, etc',\n",
       " 'Jesus christ, like half of the comments replying to a comment to watch out for scams are scams themselves.',\n",
       " 'please make a video on transforms (laplace ,fourier,z- transforms) as these will help many engineering students.Many people take it for granted very little is known about its physical meaning,there are subjects in engineering based on transforms like signals and systems, signal processing, control theory your vedios will surely make a difference in understanding these subjects.',\n",
       " 'Harsh Shankar +1 to that',\n",
       " 'Harsh Shankar yes laplace!',\n",
       " '+',\n",
       " 'Yes pls',\n",
       " 'I need this',\n",
       " \"Yeah... the transforms are a bit... sorcerous. They're not difficult, MECHANICALLY, but their physical meaning often isn't focused on very much in colleges.\",\n",
       " 'why do you pronounce every word right except for \"video\" ?',\n",
       " 'Z TRANSFORM!',\n",
       " 'Harsh Shankar oh yea, i would so love this!',\n",
       " \"Not that I wouldn't love to see 3Blue1Brown's take on transforms (because it would be amazing) but check out Eugene Khutoryansky's videos on transforms. All of his videos are amazingly visual and the videos on transforms are no exception. They explain the actual processes behind the math visually in the most understandable way I've seen so far. Name of his youtube channel is Physics Videos by Eugene Khutoryansky .\",\n",
       " \"It's  an extremely information dense lecture. You have to watch portions of it again and again to grasp the underlying concepts. But once you've finished it, you feel so damn confident.\",\n",
       " 'Dude you might be one of the best to explain this! Explaining complex ideas in an understandable way is a skill few people have 👏',\n",
       " '5 years later and I still comeback to this Blockchain explanation to check if my understanding, love it',\n",
       " 'This was well thought out and paced. Very helpful and clear. Thanks.',\n",
       " 'This is incredibly well done.',\n",
       " 'at around 20:30,  theyre discussing how it isnt viable for Alice to try to commit fraud because she cant out-compute the other miners on the network all by herself. could someone explain what would happen if a group of miners (that formed the majority of the network) decide to commit fraud together?',\n",
       " \"It's 100% possible.  And in fact, the top 4 miners of bitcoin have more than 50% of the network's total hashing power.  However, if you have 50% of the total mining network's computation, you're probably better off using it to make ~$2.2 Million a day with honest mining than you to defraud a single individual.\",\n",
       " 'That is not true. That was an attack on a flaw within a smart contract written on top of ethereum, not an attack on the blockchain.',\n",
       " 'I am referring to the fact that they then went and changed the original contract in the block chain history, which was an attack on the current canonical block chain at the time, and then re-built the entire chain from there',\n",
       " 'Yeah, there is some truth in that. Although I have problems with the word \"attack\" when describing the hard fork; there are actually valid points that it was.',\n",
       " '3Blue1Brown Fascinating',\n",
       " 'the specific name for this scenario is a \"50% attack\"',\n",
       " 'Who are these people with insane amounts of computing power? And does the money they get from mining actually offset their electricity bill?',\n",
       " \"They are groups of individual miners all sharing the 'payment.\",\n",
       " 'Great explanation, I do have one question though.\\nWhy do miners need to look for an imput that gets an output with a certain amount of 0’s? What about 30+ 1’s…. Or isn’t any output number equally unique?',\n",
       " 'I believe it\\'ll be the same if certain amount of 1s have to be achieved. Starting 0\\'s are just a universal way to find the proof-of-work. If instead an arbitrary string of bits is used/generated as \"the password\", there will need an additional mechanism to check the validity of the proof-of-work.',\n",
       " \"The number of 0's is the mining difficulty. Less miners would mean a key with fewer 0's is required. That's how a rate of 1 block per 10 minutes is maintained regardless of mining pool size.\",\n",
       " \"The '30 zeros' I believe is just arbitrary.  But all miners and users have to agree that a valid block will have SOMETHING that is easily checked.   If everyone agrees that the first 30 bits must be '10101010.....' the system would still have worked.  And I suppose all zeros is as simple as any other pattern.\\n\\nThey mention that the actual number of zeros needed has changed over time as computational power of 'miners' has grown.  So now it's more than that, designed to keep the average time to verify/hash a block to about 10 minutes.\",\n",
       " '10:00 \"The history of transactions is the currency\" interesting\\n\\nEdit: 17:30 I love how I now know what a block chain is, and it wasn\\'t as mind blowing as people on the internet made it seem. And I\\'m pretty sure blockchains are done in introductory coding courses. (Though not as complex).\\n\\nEdit 2: 18:25 so THAT\\'S why mining is profitable. I get it now. That circles back to the claim made ~10 mins in.\\n\\nEdit 3: 21:15 So, bitcoin \\'authority\\', in essence, is computing power, and bitcoin \\'identity\\' is the a blockchain made by the original owner?\\n\\nGreat video. As you can see I am still shaky on complete understanding, BUT this was the only useful explaination of Bitcoin and crypto I\\'ve seen so far (for me). So I am greatful. and maybe this will lead me to understanding others.',\n",
       " \"You have no idea how much I've tried to find an article or video actually explaining how cryptocurrencies work. Everyone else just goes around with analogies. They probably don't understand fully themselves. Thanks man.\",\n",
       " 'The quality of this video deserves 10 Million subscriber and 25million views . Such an amazing and talented young men with so much talent on explaining as smart as possible how to actually earn money from crypto and not having to rich much money . Thanks dude for this video keep it up and a shout out to TheSpaceHackersCom for being real with their investment plans.',\n",
       " \"The regular lending rates on FTX are quite good compared to most banks, but they fluctuate by the hour (and also intra-hour, but you're generally not paid for that). Meanwhile staking is a set yearly amount that seldom changes, but then you have to find a good entry and bare the risk that entails. On the other hand, I consider the opportunity cost of not owning crypto these days to be much of a much higher risk. That is to say, I think _not _owning crypto is far more risky than owning it, due to various things not limited to stupid fiscal policies and Fed money printing. So the best is owing it, trading and investing with it, I learned that from a crypto expert from TheSpaceHackers⨀Com I've made tons of profits btw\",\n",
       " 'Something that should be obvious to any computer scientist: This is terrible in practice. It wastes the same amount of energy every 10 minutes regardless of how many transactions are there. This amount of energy is only decided by how much energy miners want to waste: the answer is as much as possible, while still having a profit. So every 10 minutes miners can spend 6 bitcoins worth of electricity and still have profit (0.25 btc). The more expensive crypto gets, the more energy it will waste.',\n",
       " \"@Alberto T.  \\nYeah, it's not scalable.\\nNote that proof of work is one solution to the problem; there are many other ways of doing it. (Ex/ proof of time, proof of stake, proof of burn, etc...). Also, if the amount of time was reduced to say 0.01 seconds instead of 10 minutes to make it more practical, there will be too many forks & network spam.\\n\\nThe blockchain itself also has poor scalability, though, considering that transactions from a single individual are spread out and all stored separately. \\nIt is a neat idea. There are just too many downsides.\",\n",
       " \" @Tobi  I'd probably go with centralized and regulated currencies because they seem way less volatile, reliable and secure. And if cryptocoins ever become the go to currency, central authorities and the wealthy will centralize their hold on it, so I don't see how that's ever going to become a better alternative. Maybe the players and the chips would be different but the game would be the same.\",\n",
       " \" @Tobi  Inflation is good when regulated. Without gentle inflation, economy and money flow stagnates. Wealth hording isn't good for you. There's a reason gold standards had to go away. Maybe look into the topic.\",\n",
       " 'So true!',\n",
       " '\"They probably don\\'t understand fully themselves\" - fact',\n",
       " 'haga un video sobre transformadas (laplace, fourier, z- transformadas) ya que esto ayudará a muchos estudiantes de ingeniería. Mucha gente da por sentado que se sabe muy poco sobre su significado físico, hay temas en ingeniería basados en transformadas como señales y sistemas. , procesamiento de señales, teoría de control, sus videos seguramente marcarán una diferencia en la comprensión de estos temas.',\n",
       " 'Wow. This was incredibly well illustrated and well done',\n",
       " 'This is the clearest video I’ve ever seen, and I still don’t get it.',\n",
       " 'Exactly.',\n",
       " 'I think the first thing to get down is the notion of decentralized ledgers. An understanding of where the actual bitcoins are in the whole process is vital to understanding what is going on. Everything else is just applying cryptography to deal with the various security problems that these decentralized ledgers would otherwise have.',\n",
       " 'Acctually tho wtf',\n",
       " 'loki',\n",
       " 'Most explanations I’ve heard are the same regurgitation of simple analogies with a twist of their own life story but what I want to know is the nuts and bolts of the whole operation. That’s what has been annoying',\n",
       " 'Becaus its imaginary money',\n",
       " ' @J3GJ  so is fiat currency',\n",
       " ' @IncomeSourcer  😂 thats a new one to me. Oh it hurts, 😂🤣☠️',\n",
       " ' @J3GJ  what is it backed by? What gives it it’s value?',\n",
       " \" @IncomeSourcer  \\nIts imaginary\\nBecause it isn't real\\nBecause its imaginary\\nDue to it not being real\\nLike god \\nOr imaginary friends\\nOr santa\\nOr flat earth\\nBecause its imaginary\\nBecause its not real\",\n",
       " 'Thank you, really great explanation!',\n",
       " 'Great video that explains how bitcoin works.  From my understanding there are only 21Mil bitcoins possible...what happens in 2040 when that limit ie reached...will mining stop or due to scarcity the value of bitcoins go up.  To contrast it with regular currency, governments can just issue more currency...who would issue more bitcoins once the limit is reached? thx. BTW awesome video/animation ...what software was used for it?',\n",
       " \"*2140 is when the coin will be found. And fees, is how miners will get paid. \\n \\nThe fee you pay for sending BTC goes to the mining pool that processes your transaction. Paying a higher fee means you'll get processed first.\",\n",
       " 'Another master piece work, thanks for simplifying things such easy to understand way, request you to do more video on alternates to proof of work..',\n",
       " '📞📲📩',\n",
       " 'This is the most educational video I’ve ever watched thank you so much for real🙏',\n",
       " '📞📲📩',\n",
       " 'Thanks for making this video that I finally understand the options trading. options trading has really transform a lot of people, making money make me live a luxury life and give my family the best',\n",
       " '📩📩📩',\n",
       " 'This is one of my favourite videos, I took so much away from it! Would you be open to doing a similar style of video on the Proof of Stake mechanism that Ethereum will be transitioning to? Keep up the beautiful work. <3',\n",
       " '\"I\\'m still confused, but on a higher level!\"',\n",
       " \"Me too.  My confusion is at a much higher level after seeing and grokking this video.  So, I'm grateful for that.\",\n",
       " \"that's a really nice way of phrasing things\",\n",
       " 'i  searched alot information and already know how it works before watching this video :D',\n",
       " ' @Mayank Singh  i profited alot with it',\n",
       " \"Confusion is at that level that , it's rare to find someone get it\",\n",
       " 'Too funny!!!',\n",
       " 'surely confused!',\n",
       " 'I think I am more confused than before.',\n",
       " \"That's exactly how i feel after watching this :D\",\n",
       " 'This needs a regular Joe to use daily \"how are you\" types  of language to try to explain to regular Joes watching YouTube and I am worse than Joe, lol',\n",
       " 'I have always had a deep interest in this and would really love to start from somewhere anywhere actually , I believe this is what our future is all about',\n",
       " '📞📲📩',\n",
       " \"Thank you so much for this very informative video. The block chain methodology appears to have devised a way to ensure secure transactions; and people smarter people than me have likely answered most of the objections, I guess I remain skeptical. I base this on nothing more than human nature, greed, and the ability of people with personal motives to somehow work the system to their own benefit. For example, why couldn't a clever programmer just place 30 zeroes - followed by a random number set at the end of his block chain (after inserting his payoff), then replacate a large number of these pseudo-blocks and rapidly distribute them in quantity to an unsuspecting world? And, Bob's your uncle, and Bitcoin becomes another Magino Line to be circumvented.\",\n",
       " 'The hash is computed not \"placed\". When other check the block is valid, they take its header, which commit to the whole content of the block, computes the hash of block\\'s header and it must be a low number. Their is no way to build a block with a low hash other than try random stuff because the result of a hash function also looks random.\\n\\nThe clever programmer will never be able to set the hash as he wishes, he can only set the block content then compute the hash to see if it is a low number, if not try again with another block content...',\n",
       " ' @Theo Pantamis  Sorry my example was more of a Gordian Knot analogy than a technical statement. Recall no one could solve the puzzle, until Alexander the Great used his sword to cut the rope - problem solved. Given enough time and financial incentive, I suspect just about any problem can be solved in a similar fashion.',\n",
       " ' @Crabby Hayes  And this is expected ! The puzzle is made so that someone solves it every 10 minutes. If it is solved too fast, its difficulty is increased to keep it that way in average.\\n\\nHowever, if you mean that there is maybe a way to \"break\" SHA256 so that mining is not a brut-force puzzle anymore then notice that note only Bitcoin is in danger, but all the signature and integrity check algorithms used in the world too ! (in finance, web certificates, communication...)  Changing the hash function is also not impossible in this extreme case, it is just painful technically, nullifying all the effort.\\n\\nThat\\'s is where your analogy with Gordian Knot is limited: the rope is static but mining is actually a dynamical problem that can adapt itself to the ones who try to solve it. It said to be anti-fragile.',\n",
       " \"Don't be scared of trying again when you fall I did this so many times until I found this real and trustworthy man I really can't thank him enough he have been good to me so many time thank you for everything sir\",\n",
       " \"So first of all, love the vid\\n\\nJust wanted to say from a purely meta kind of standpoint, I really love how this video is put together. Not even just the editing / graphics and what not, but just the way you tell the story. I'm constantly asking questions in my mind and it's like within the next minute or two you provide an answer. I'm definitely studying a lot of your videos to learn how to improve my own content because you do a masterful job at keeping your audience engaged. Fantastic work\",\n",
       " \"What'sapp✙𝟭𝟰𝟭𝟯𝟯𝟱𝟰𝟰𝟵𝟰𝟴\\n\\nMore updates on ZIL, NFT’s, BTC📊🚀..\\nWhat'sapp✙𝟭𝟰𝟭𝟯𝟯𝟱𝟰𝟰𝟵𝟰𝟴\\n\\nMore updates on ZIL, NFT’s, BTC📊🚀..\",\n",
       " 'Thanks and do get in touch',\n",
       " \"Prior to watching this I didn't really understand the link between mining and validating the transactions. Its quite interesting how the system can self-adjust to make sure that mining\\\\validating is always profitable, and therefore even if there is a big crash in mining profitability it should just result in a slowdown of transactions until the system balances. I guess the issue is that there is a big problem if the coin is used for real large scale commerce\\\\business that rely on guaranteed volume. If a large enough proportion of bitcoin transactions were for real vital goods and services, then a crash in mining profitability could drive he value to zero since the value would be much more tied to the amount of volume the system can handle. Lack of trust could continually inflate it, which would then continually make it harder to restore validation capacity. Volatility is an issue for real world business even if the overall trend is continually upwards. \\nIf I am correct, then it would suggest that bitcoin will remain a speculation asset and a store of value rather than a replacement for sovereign currencies?\",\n",
       " \"Yes, even if it was stable it would be deflationary, and a deflationary currency is a very, very bad currency. Another problem is that it's incredibly wasteful, and already contributing to climate change to a level that can appear in charts. It will only get worse the higher the price is, because miners can afford to use more electricity.\",\n",
       " ' @Alberto T.   Incorrect. The majority of energy used for Bitcoin mining is already from renewable energy sources. In terms of profit potential, bitcoin mining is designed in such a way that implicitly requires the necessity for cheap, renewable forms of energy production. And thus, Bitcoin mining actually incentivizes the need for advancements in technology for renewables and that is exactly what is currently being done. We will look back on this one day and realize that something as controversial as bitcoin mining turned out to be the technological catalyst the planet needed all along.',\n",
       " \" @Alberto T.  And what about inflationary currencies?  There may be unforeseen consequences due to the energy expenditure, but I feel that pales in comparison to the gymnastics that fiat currencies have given rise too.  If the result is sound money that prevents the manipulation of central banks, then it might be a price worth paying.  Just food for thought.  Governments WILL use the climate as an excuse to restrict access to private citizens' crypto.\\nI agree we need better energy solutions though.  It may have just been a passing thought, but I think carbon capture is a waste of time from what little I've researched.\",\n",
       " \"volatility is probably because it's not mass adopted yet. but scaling is the problem\",\n",
       " \" @Alberto T.  Why are deflationary currencies bad ?? I don't really understand can you explain\",\n",
       " 'This was excellent and detailed enough for making sense. \\nIt certainly helps being an IT person, knowing the elements already.',\n",
       " 'This is the video that opened the world of crypto for me. Thanks for that!',\n",
       " '📞📲📩',\n",
       " 'fascinating video as always,  I rewatch this second time and still find it very useful to remind me again. did you use only the manim library to create all the animation',\n",
       " '📞📲📩',\n",
       " \"GREAT VIDEO!! Before this I watched some videos about what it is and how cryptocurrency works. But they really couldn't describe how cryptocurrency works. They gave some vague analogies which I really couldn't understand well, Can't really blame them! They might know the thing from core but wouldn't tell it in the video so to make a short and interesting video that will attact and retain viewers. \\n\\nThen I found your video. Hesitated a bit noticing the video length but watched it anyway!  I think Now I REALLY understand the very basics of what crytocurrency is how it works. I still have questions Though I know I very likely wouldn't find answers of those as youtubers are oversimplifying things. But anyway a REALLY GREAT video!! THANKS for doing this!!\",\n",
       " '📩📩📩📩',\n",
       " 'This is by far the best explanation of Bitcoin I have ever seen, many thanks.',\n",
       " '📲📩',\n",
       " \"Great video! I have a question, I have two fraud inquiries on my reports that I would like to get removed. I've seen your video regarding this, but Im still a bit confused. So I know my first step would be making a call with the credit bureau (Experian) but should I also make call what time? And would I be never stop sending a good compny MarKensTech911Com to my friends and people I know regarding any credit situations!\",\n",
       " 'Amazing video. Definitely the best I\\'ve ever seen on Block Chain. I actually feel I kind of understand it now, which is incredible.\\n\\nHowever I still don\\'t understand how the order of the transactions (which could surely lead to someone spending money they don\\'t have, if the ledger placed them in the wrong order) is mitigated by the \"always follow the block chain with the most computation behind it\" methodology.\\n\\nAnd also what happens if someone trusts a block chain that\\'s later replaced by another. (I mean I know the video says that you should wait for a few blocks to follow to ensure you can trust it, but there must be occasional holes in that method where a trusted line suddenly has gotten replaced?).',\n",
       " 'I\\'m not sure if this will exactly answer your question, but transactions don\\'t really have an \"order\". Whenever you make one, you are really putting it into a pool of transactions waiting to be confirmed (which happens by the transactions being put down on blocks by miners at some point. And yes, miners get to choose which transactions they put on a block, but they can\\'t ever put one down that was already on a previous block). You wouldn\\'t be able to spend money you didn\\'t have, because you wouldn\\'t have the money until the transaction giving you the money was confirmed. Really, the order of transactions confirmed shouldn\\'t matter at all, when adding new blocks. \\nI feel like this is something 3Blue1Brown misses in his video, because it\\'s a little bit unclear that he means computational methodology sets the order, not that transactions are put down in the same order as they are requested. Following proof of work is just a way to keep everyone synced up. \\n\\nFor your second question, (and I\\'m not an expert so take this with a grain of salt), in an ordinary situation, multiple block chains usually aren\\'t created. If two miners happen to create different blocks chaining off the same original block, the one that was created first will be accepted, and there would only be one chain to continue with. The miner with the losing block doesn\\'t receive any extra currency for their efforts, and their block is discarded.\\nIf you\\'re thinking of his example with a fraudulent block, other miners don\\'t see the fraudulent one, so they will never add onto it. This means, as said in the video, someone creating a fraudulent block would be the only one adding onto it. This means they would have to consistently out-compete all the other miners, time-wise, in order to get their fraudulent chain accepted. Think of being the fastest one to create a block as winning a lottery. Continuously being the fastest one would be like winning the lottery over and over. The number of blocks required to select one chain as the valid one is simply a number where the chance of winning the lottery that many times would essentially be 0. While theoretically, someone could slip through with a fraudulent chain, they\\'d have to be impossibly lucky. Of course, if you had a computer that could somehow process numbers a VERY significant amount faster than the leading technology now, that would change...',\n",
       " 'In the bitcoin blockchain once a block is mined it takes 100 blocks following for the miner to be able to access their coins, so after 100 blocks (which is about 16 hours and 40 minutes) that block is seen to be valid and in the valid blockchain.',\n",
       " 'I love how you subtly touched P vs. NP in the process:)',\n",
       " '📞📲📩',\n",
       " 'probably one of the best explanations of the blockchain that i have seen',\n",
       " 'Best video on block chain. I finally understand, at least in some extent, how this hole thing works. Thank you! 😉',\n",
       " '📲',\n",
       " \"You have no idea how much I've tried to find an article or video actually explaining how cryptocurrencies work. Everyone else just goes around with analogies. They probably don't understand fully themselves. Thanks man.\",\n",
       " \"6:20 it's not that huge a number giving current computing power. Not to mention there is no global standard any of this is based on.  As soon as 256 bit hash collisions come into the public view like it did for SHA-1 just a few years ago the ledger will start suffering from fake transactions.  Then you might as well hire people to watch these transactions manually.  Maybe get some type of insurance on losses.  Then maybe realize that all vulneribilities from the hardware layer to the software layer means you can lose all your money so setup a system to ensure the key exchange is secure, like a network of quantum key exchanges.  After all this maybe BitCoin and the like can be safer, you know... like a bank.\",\n",
       " ' @Kiana Sheibani  And if you could calculate 52 quintillion hashes per second?',\n",
       " \" @Erdem Memisyazici  I believe you don't really know what you are talking about.\",\n",
       " ' @Andy B  Okay.',\n",
       " 'Erdem Memisyazici I’m pretty sure 52 quintillion hashes per second is slower than the Planck time Bijan gave you (about 10^43 hashes per second, compared to your 5.2*10^19), so you would take even longer.',\n",
       " 'Erdem Memisyazici   Kinda like a bank ~ I mean a privately owned bank that enters  + & - on a ledger no one but priv bank sees?  No gold backing up our deposits and bank pronts all money 💰 they want with Fed Reserv (also privately owned) pos to be accepted by bank & is not legal until priv bank agrees to it being so?  Really corrupt system ~ kinda like the Church/vatican /BIBLE',\n",
       " 'Bijan Sheibani ~ simply w/bitcoin security ~ wondering with AI -and AI Robot Technology has AI been used to check if it can detect weaknesses?',\n",
       " 'Erdem Memisyazici - how fast is AI pc’s able to calculate hash per second?',\n",
       " 'Can you tell me the synopsis of how Bitcoin actually generates money/wealth? By solving math in short? But for who and why this generates wealth?',\n",
       " \" @Erdem Memisyazici  I have no fucking clue what a quintillion is, use scientific notation for big numbers, normie. But whatever you mean by 52 quintillion, it's probably less than a second in planck units. That's like 10^43 hashes per second. There is a huge gap between 128 and 256 bit hashes. 128 bit hashes have 2^128 possibilities. Now if you have 2^128 additional possibilities for each possibility of the original 128bit hash, you have the 256 bit hash. It's just ridiculously larger.\",\n",
       " \"I can't remember when last I used physical machines for mining. I will stick with tech host farms' cloud mining services they are the best.\",\n",
       " 'Hey, thanks for the awesome tutorial. I have 1 question, can it happen that a true transaction gets rejected?',\n",
       " 'It would happen if no miners included your transaction in their block (for example, if you were offering such a small transaction fee that they always had juicier choices- generally, only between 1600 and 2200 transactions fit in each block). When this happens, you have a few options: wait for the next block and try again, increase your bid to try to get a miner to pick your transaction up this block, or look into other options (like cash, debit, another cryptocurrency, or experimental off-chain resolution that some programmers are trying to work on)',\n",
       " 'Depends what you mean by \"true transaction\". Bitcoin is not actually used as a currency because your transaction has to include a big tip to miners or they won\\'t put it in a block. The above comment discusses this also.\\nIt can happen that a true transaction (one that makes it into a block) gets (partially) rejected, but it\\'s extremely rare and unlikely. It\\'s called a fork when some nodes on the network accept the latest block, others don\\'t, yielding effectively 2 blockchains that can grow.',\n",
       " \"great and simple explanation of bitcoin and how it works, thanks for this! new subscriber and can't wait to watch more videos from your channel\",\n",
       " '📞📲📩',\n",
       " 'Thank you so much for the seeds of knowledge you planted in my brain',\n",
       " 'first of all, a really cool video, thank you 3Blue1Brown, always dependable. \\n\\nBut I want to ask, how did the hash 256 function created? my understanding is, there has to be someone that create the function right? and when he create it, he knew the algorithm on how to reverse engineering it. and if yes there is a person / company that create that, didnt they can be able to exploit the system by always finding the hash earlier than others due to they have the key to understand the hash algorithm?\\n\\nthank you',\n",
       " 'It is made by the NSA.\\nIf there is a known way to reverse-engineer it, then it would not be a good hash function and would not be used. If it were broken, a lot more than just bitcoin would become vulnerable.\\n\\nCan try it yourself.',\n",
       " \"If sha-256 is insecure its not just a problem for bitcoin, it is a problem for everything - governments & banks use this hashing system so if there was a security vulnerability loads of important info in the world would be compromised, so you shouldn't worry about bitcoin relying on a certain hashing function since everything relies on this one hashing function.\",\n",
       " 'Whoever did this:\\nThank you.\\nI wish I had you working with me!',\n",
       " '📲📩📩📩',\n",
       " \"Great video! I have a question, I have two fraud inquiries on my reports that I would like to get removed. I've seen your video regarding this, but Im still a bit confused. So I know my first step would be making a call with the credit bureau (Experian) but should I also make call what time? And would I be never stop sending a good compny MarKensTech911Com to my friends and people I know regarding any credit situations!\",\n",
       " 'The market keeps growing daily with new strategies on how we can make it work for us for long periods of time , I’m glad I finally started my invstment, can’t wait to see how this all turns out',\n",
       " 'Using Virtual crypto mines',\n",
       " 'This was my first steps into the Cryptocurrency world and for the first time when trading I have felt confident in my decisions. I have made 3 times on my trading capital under 3 months and with the market making large moves and the support and mentoring I get from Virtualcryptomines🪐com I am going for even bigger goals. Platinum Academy has provided me the support I needed to really make my trading better. I’m also thinking of taking their Forex course next year so I have more eggs in more baskets.',\n",
       " 'As a first timer venturing into cryptocurrency investments, this course has been fairly insightful as it covers all the basics of understanding cryptocurrency markets and the relevant chart analysis techniques. The 1-2-1 sessions were well thought out and composed in an easy to digest manner. Kudos VIRTUALCRYPTOMINES🟡COM for making things easily understandable, Overall, it is a very solid Cryptocurrency Programme that I would recommend to anyone interested in learning the fundamentals of cryptocurrency and market chart analysis.',\n",
       " 'Right ! . Real Investors will tell you the heights at which virtual crypto mines have come',\n",
       " 'Wow. This was special. I really enjoyed this detailed explanation and the accompanying video about the SHA hashes. Thank you for sharing.',\n",
       " 'busyrand i',\n",
       " 'exceptional explanation, thank you!',\n",
       " 'Just saw that this had been renamed to be more accurate, since other cryptocurrencies work differently. I was literally just thinking about that issue with this video a week or so ago. (I saw this video the year it was released.)',\n",
       " '📞📲📩',\n",
       " 'Such a beautiful Chanel,  I appreciate for all this pure, precise  and precious information that you put together,  I am really fascinated with level of your  mathematics knowledge and how you simply and understandibly  illustrate it, I used your video to learn about vectors, it was wonderfully explained/tought,  I am big fan of you, thank you.',\n",
       " 'This video is very informative especially to someone who is trying to research cryptocurrency as well! Thank you for this!',\n",
       " 'As a first timer venturing into cryptocurrency investments, this course has been fairly insightful as it covers all the basics of understanding cryptocurrency markets and the relevant chart analysis techniques. The 1-2-1 sessions were well thought out and composed in an easy to digest manner. Kudos VIRTUALCRYPTOMINES🟡COM for making things easily understandable, Overall, it is a very solid Cryptocurrency Programme that I would recommend to anyone interested in learning the fundamentals of cryptocurrency and market chart analysis.',\n",
       " 'Right ! . Real Investors will tell you the heights at which virtual crypto mines have come',\n",
       " \"That's the more reason VirtualCryptoMines is still my favorite investor he guides me and still give me all the information I have to know about Bitcoin and other crypto currency.\",\n",
       " 'This is a Scam\\nRead the Pinned Comment for More',\n",
       " 'Fabulous and concise video. Thank you.',\n",
       " \"@3Blue1Brown Ten minutes times 210,000 is about five months (145 days and 20 hours), so there's that.\",\n",
       " 'one of the clearest explanation. Thank a lot bro!',\n",
       " '📩📩📩📩',\n",
       " 'Excellent work and most informative video about Crypto. 👍',\n",
       " 'Big thanks to the man that have good feeling for the poor and also give life back to those that loose hope🔦🔦🔦',\n",
       " \"I've seen alot of videos related to this but this one is really informational.\",\n",
       " \"Finally understand the principles. I've watched a number of videos and even read a book. I'm either a slow learner, this is a great video, or both!\",\n",
       " \"Thank you for your comment on this video, we'll keep helping you make better trade as much as we can.\",\n",
       " 'The software \"TeamSpeak\" also uses proof of work as a security level, the higher, the more unlikely you are some spammer. But it was built to run on a single CPU core from 10 years ago. And it measures how many hours/days/weeks it would take to get to a level. So I wrote a solver that runs on my GPU which gets me the weeks level in minutes.\\nI didn\\'t make the connection to Bitcoin until now.',\n",
       " 'One of the best videos so far I have come across that explains the technicality. I just love it. Thank you for this wonderful video.',\n",
       " '📞📲📩',\n",
       " \"Thank you very much. I have been wanting to understand blockchain for a really long time. Your YouTube video was really helpful and fun to watch. You are really good at explaining the complicated stuff in a lucid way. You've got yourself a new subscriber.  😁\"]"
      ]
     },
     "execution_count": 35,
     "metadata": {},
     "output_type": "execute_result"
    }
   ],
   "source": [
    "# get comment caption\n",
    "comments = []\n",
    "find = driver.find_elements(by=By.XPATH, value='//*[@id=\"content-text\"]')\n",
    "for comment in find:\n",
    "    comments.append(comment.text)\n",
    "print(len(comments))   \n",
    "comments"
   ]
  },
  {
   "cell_type": "code",
   "execution_count": 36,
   "id": "8c91ae44",
   "metadata": {},
   "outputs": [
    {
     "name": "stdout",
     "output_type": "stream",
     "text": [
      "171\n",
      "['If you see comments here about investing or brokers, they are scams.  Videos about cryptocurrencies, evidently including ones that are just about the underlying technology/math, are hotbeds for attracting nefarious actors preying on the impressionable.\\n\\nAlso, hi!  If you’re new to this channel, most of it is about visualizing math. I get it, you probably landed here searching for how BTC works, not to spend your afternoon getting pulled into learning about, say, prime numbers or problem-solving, but if you have a moment take a look at the rest of the channel, you may enjoy what you find.', \"I'd recommend not just reporting, but also replying to them, explaining to any potential readers how their advertisement is a scam. Commenting is quick, and could save somebody hundreds of dollars! :)\", 'Thank you so much Lisa', 'Only a matter of time before scammers come here and give you some discounts.', 'Wow I’m already seeing scams scrolling through the replies to this lmao.', \"I appreciate your efforts toward my account, I give it a try but I wasn't regretting it at least\", \" @MARKETINVESTMENTBINARY•COM  yeah, you're right\", ' @Lame Wells  Mr Crystal ate my hamster.', ' @S. Giles  lmaooooo', 'Can you do a updated video? Some of the info is outdated, and it would be really cool to see a explanation of layer 2 features like lightning, etc', 'Jesus christ, like half of the comments replying to a comment to watch out for scams are scams themselves.', 'please make a video on transforms (laplace ,fourier,z- transforms) as these will help many engineering students.Many people take it for granted very little is known about its physical meaning,there are subjects in engineering based on transforms like signals and systems, signal processing, control theory your vedios will surely make a difference in understanding these subjects.', 'Harsh Shankar +1 to that', 'Harsh Shankar yes laplace!', '+', 'Yes pls', 'I need this', \"Yeah... the transforms are a bit... sorcerous. They're not difficult, MECHANICALLY, but their physical meaning often isn't focused on very much in colleges.\", 'why do you pronounce every word right except for \"video\" ?', 'Z TRANSFORM!', 'Harsh Shankar oh yea, i would so love this!', \"Not that I wouldn't love to see 3Blue1Brown's take on transforms (because it would be amazing) but check out Eugene Khutoryansky's videos on transforms. All of his videos are amazingly visual and the videos on transforms are no exception. They explain the actual processes behind the math visually in the most understandable way I've seen so far. Name of his youtube channel is Physics Videos by Eugene Khutoryansky .\", \"It's  an extremely information dense lecture. You have to watch portions of it again and again to grasp the underlying concepts. But once you've finished it, you feel so damn confident.\", 'Dude you might be one of the best to explain this! Explaining complex ideas in an understandable way is a skill few people have 👏', '5 years later and I still comeback to this Blockchain explanation to check if my understanding, love it', 'This was well thought out and paced. Very helpful and clear. Thanks.', 'This is incredibly well done.', 'at around 20:30,  theyre discussing how it isnt viable for Alice to try to commit fraud because she cant out-compute the other miners on the network all by herself. could someone explain what would happen if a group of miners (that formed the majority of the network) decide to commit fraud together?', \"It's 100% possible.  And in fact, the top 4 miners of bitcoin have more than 50% of the network's total hashing power.  However, if you have 50% of the total mining network's computation, you're probably better off using it to make ~$2.2 Million a day with honest mining than you to defraud a single individual.\", 'That is not true. That was an attack on a flaw within a smart contract written on top of ethereum, not an attack on the blockchain.', 'I am referring to the fact that they then went and changed the original contract in the block chain history, which was an attack on the current canonical block chain at the time, and then re-built the entire chain from there', 'Yeah, there is some truth in that. Although I have problems with the word \"attack\" when describing the hard fork; there are actually valid points that it was.', '3Blue1Brown Fascinating', 'the specific name for this scenario is a \"50% attack\"', 'Who are these people with insane amounts of computing power? And does the money they get from mining actually offset their electricity bill?', \"They are groups of individual miners all sharing the 'payment.\", 'Great explanation, I do have one question though.\\nWhy do miners need to look for an imput that gets an output with a certain amount of 0’s? What about 30+ 1’s…. Or isn’t any output number equally unique?', 'I believe it\\'ll be the same if certain amount of 1s have to be achieved. Starting 0\\'s are just a universal way to find the proof-of-work. If instead an arbitrary string of bits is used/generated as \"the password\", there will need an additional mechanism to check the validity of the proof-of-work.', \"The number of 0's is the mining difficulty. Less miners would mean a key with fewer 0's is required. That's how a rate of 1 block per 10 minutes is maintained regardless of mining pool size.\", \"The '30 zeros' I believe is just arbitrary.  But all miners and users have to agree that a valid block will have SOMETHING that is easily checked.   If everyone agrees that the first 30 bits must be '10101010.....' the system would still have worked.  And I suppose all zeros is as simple as any other pattern.\\n\\nThey mention that the actual number of zeros needed has changed over time as computational power of 'miners' has grown.  So now it's more than that, designed to keep the average time to verify/hash a block to about 10 minutes.\", '10:00 \"The history of transactions is the currency\" interesting\\n\\nEdit: 17:30 I love how I now know what a block chain is, and it wasn\\'t as mind blowing as people on the internet made it seem. And I\\'m pretty sure blockchains are done in introductory coding courses. (Though not as complex).\\n\\nEdit 2: 18:25 so THAT\\'S why mining is profitable. I get it now. That circles back to the claim made ~10 mins in.\\n\\nEdit 3: 21:15 So, bitcoin \\'authority\\', in essence, is computing power, and bitcoin \\'identity\\' is the a blockchain made by the original owner?\\n\\nGreat video. As you can see I am still shaky on complete understanding, BUT this was the only useful explaination of Bitcoin and crypto I\\'ve seen so far (for me). So I am greatful. and maybe this will lead me to understanding others.', \"You have no idea how much I've tried to find an article or video actually explaining how cryptocurrencies work. Everyone else just goes around with analogies. They probably don't understand fully themselves. Thanks man.\", 'The quality of this video deserves 10 Million subscriber and 25million views . Such an amazing and talented young men with so much talent on explaining as smart as possible how to actually earn money from crypto and not having to rich much money . Thanks dude for this video keep it up and a shout out to TheSpaceHackersCom for being real with their investment plans.', \"The regular lending rates on FTX are quite good compared to most banks, but they fluctuate by the hour (and also intra-hour, but you're generally not paid for that). Meanwhile staking is a set yearly amount that seldom changes, but then you have to find a good entry and bare the risk that entails. On the other hand, I consider the opportunity cost of not owning crypto these days to be much of a much higher risk. That is to say, I think _not _owning crypto is far more risky than owning it, due to various things not limited to stupid fiscal policies and Fed money printing. So the best is owing it, trading and investing with it, I learned that from a crypto expert from TheSpaceHackers⨀Com I've made tons of profits btw\", 'Something that should be obvious to any computer scientist: This is terrible in practice. It wastes the same amount of energy every 10 minutes regardless of how many transactions are there. This amount of energy is only decided by how much energy miners want to waste: the answer is as much as possible, while still having a profit. So every 10 minutes miners can spend 6 bitcoins worth of electricity and still have profit (0.25 btc). The more expensive crypto gets, the more energy it will waste.', \"@Alberto T.  \\nYeah, it's not scalable.\\nNote that proof of work is one solution to the problem; there are many other ways of doing it. (Ex/ proof of time, proof of stake, proof of burn, etc...). Also, if the amount of time was reduced to say 0.01 seconds instead of 10 minutes to make it more practical, there will be too many forks & network spam.\\n\\nThe blockchain itself also has poor scalability, though, considering that transactions from a single individual are spread out and all stored separately. \\nIt is a neat idea. There are just too many downsides.\", \" @Tobi  I'd probably go with centralized and regulated currencies because they seem way less volatile, reliable and secure. And if cryptocoins ever become the go to currency, central authorities and the wealthy will centralize their hold on it, so I don't see how that's ever going to become a better alternative. Maybe the players and the chips would be different but the game would be the same.\", \" @Tobi  Inflation is good when regulated. Without gentle inflation, economy and money flow stagnates. Wealth hording isn't good for you. There's a reason gold standards had to go away. Maybe look into the topic.\", 'So true!', '\"They probably don\\'t understand fully themselves\" - fact', 'haga un video sobre transformadas (laplace, fourier, z- transformadas) ya que esto ayudará a muchos estudiantes de ingeniería. Mucha gente da por sentado que se sabe muy poco sobre su significado físico, hay temas en ingeniería basados en transformadas como señales y sistemas. , procesamiento de señales, teoría de control, sus videos seguramente marcarán una diferencia en la comprensión de estos temas.', 'Wow. This was incredibly well illustrated and well done', 'This is the clearest video I’ve ever seen, and I still don’t get it.', 'Exactly.', 'I think the first thing to get down is the notion of decentralized ledgers. An understanding of where the actual bitcoins are in the whole process is vital to understanding what is going on. Everything else is just applying cryptography to deal with the various security problems that these decentralized ledgers would otherwise have.', 'Acctually tho wtf', 'loki', 'Most explanations I’ve heard are the same regurgitation of simple analogies with a twist of their own life story but what I want to know is the nuts and bolts of the whole operation. That’s what has been annoying', 'Becaus its imaginary money', ' @J3GJ  so is fiat currency', ' @IncomeSourcer  😂 thats a new one to me. Oh it hurts, 😂🤣☠️', ' @J3GJ  what is it backed by? What gives it it’s value?', \" @IncomeSourcer  \\nIts imaginary\\nBecause it isn't real\\nBecause its imaginary\\nDue to it not being real\\nLike god \\nOr imaginary friends\\nOr santa\\nOr flat earth\\nBecause its imaginary\\nBecause its not real\", 'Thank you, really great explanation!', 'Great video that explains how bitcoin works.  From my understanding there are only 21Mil bitcoins possible...what happens in 2040 when that limit ie reached...will mining stop or due to scarcity the value of bitcoins go up.  To contrast it with regular currency, governments can just issue more currency...who would issue more bitcoins once the limit is reached? thx. BTW awesome video/animation ...what software was used for it?', \"*2140 is when the coin will be found. And fees, is how miners will get paid. \\n \\nThe fee you pay for sending BTC goes to the mining pool that processes your transaction. Paying a higher fee means you'll get processed first.\", 'Another master piece work, thanks for simplifying things such easy to understand way, request you to do more video on alternates to proof of work..', '📞📲📩', 'This is the most educational video I’ve ever watched thank you so much for real🙏', '📞📲📩', 'Thanks for making this video that I finally understand the options trading. options trading has really transform a lot of people, making money make me live a luxury life and give my family the best', '📩📩📩', 'This is one of my favourite videos, I took so much away from it! Would you be open to doing a similar style of video on the Proof of Stake mechanism that Ethereum will be transitioning to? Keep up the beautiful work. <3', '\"I\\'m still confused, but on a higher level!\"', \"Me too.  My confusion is at a much higher level after seeing and grokking this video.  So, I'm grateful for that.\", \"that's a really nice way of phrasing things\", 'i  searched alot information and already know how it works before watching this video :D', ' @Mayank Singh  i profited alot with it', \"Confusion is at that level that , it's rare to find someone get it\", 'Too funny!!!', 'surely confused!', 'I think I am more confused than before.', \"That's exactly how i feel after watching this :D\", 'This needs a regular Joe to use daily \"how are you\" types  of language to try to explain to regular Joes watching YouTube and I am worse than Joe, lol', 'I have always had a deep interest in this and would really love to start from somewhere anywhere actually , I believe this is what our future is all about', '📞📲📩', \"Thank you so much for this very informative video. The block chain methodology appears to have devised a way to ensure secure transactions; and people smarter people than me have likely answered most of the objections, I guess I remain skeptical. I base this on nothing more than human nature, greed, and the ability of people with personal motives to somehow work the system to their own benefit. For example, why couldn't a clever programmer just place 30 zeroes - followed by a random number set at the end of his block chain (after inserting his payoff), then replacate a large number of these pseudo-blocks and rapidly distribute them in quantity to an unsuspecting world? And, Bob's your uncle, and Bitcoin becomes another Magino Line to be circumvented.\", 'The hash is computed not \"placed\". When other check the block is valid, they take its header, which commit to the whole content of the block, computes the hash of block\\'s header and it must be a low number. Their is no way to build a block with a low hash other than try random stuff because the result of a hash function also looks random.\\n\\nThe clever programmer will never be able to set the hash as he wishes, he can only set the block content then compute the hash to see if it is a low number, if not try again with another block content...', ' @Theo Pantamis  Sorry my example was more of a Gordian Knot analogy than a technical statement. Recall no one could solve the puzzle, until Alexander the Great used his sword to cut the rope - problem solved. Given enough time and financial incentive, I suspect just about any problem can be solved in a similar fashion.', ' @Crabby Hayes  And this is expected ! The puzzle is made so that someone solves it every 10 minutes. If it is solved too fast, its difficulty is increased to keep it that way in average.\\n\\nHowever, if you mean that there is maybe a way to \"break\" SHA256 so that mining is not a brut-force puzzle anymore then notice that note only Bitcoin is in danger, but all the signature and integrity check algorithms used in the world too ! (in finance, web certificates, communication...)  Changing the hash function is also not impossible in this extreme case, it is just painful technically, nullifying all the effort.\\n\\nThat\\'s is where your analogy with Gordian Knot is limited: the rope is static but mining is actually a dynamical problem that can adapt itself to the ones who try to solve it. It said to be anti-fragile.', \"Don't be scared of trying again when you fall I did this so many times until I found this real and trustworthy man I really can't thank him enough he have been good to me so many time thank you for everything sir\", \"So first of all, love the vid\\n\\nJust wanted to say from a purely meta kind of standpoint, I really love how this video is put together. Not even just the editing / graphics and what not, but just the way you tell the story. I'm constantly asking questions in my mind and it's like within the next minute or two you provide an answer. I'm definitely studying a lot of your videos to learn how to improve my own content because you do a masterful job at keeping your audience engaged. Fantastic work\", \"What'sapp✙𝟭𝟰𝟭𝟯𝟯𝟱𝟰𝟰𝟵𝟰𝟴\\n\\nMore updates on ZIL, NFT’s, BTC📊🚀..\\nWhat'sapp✙𝟭𝟰𝟭𝟯𝟯𝟱𝟰𝟰𝟵𝟰𝟴\\n\\nMore updates on ZIL, NFT’s, BTC📊🚀..\", 'Thanks and do get in touch', \"Prior to watching this I didn't really understand the link between mining and validating the transactions. Its quite interesting how the system can self-adjust to make sure that mining\\\\validating is always profitable, and therefore even if there is a big crash in mining profitability it should just result in a slowdown of transactions until the system balances. I guess the issue is that there is a big problem if the coin is used for real large scale commerce\\\\business that rely on guaranteed volume. If a large enough proportion of bitcoin transactions were for real vital goods and services, then a crash in mining profitability could drive he value to zero since the value would be much more tied to the amount of volume the system can handle. Lack of trust could continually inflate it, which would then continually make it harder to restore validation capacity. Volatility is an issue for real world business even if the overall trend is continually upwards. \\nIf I am correct, then it would suggest that bitcoin will remain a speculation asset and a store of value rather than a replacement for sovereign currencies?\", \"Yes, even if it was stable it would be deflationary, and a deflationary currency is a very, very bad currency. Another problem is that it's incredibly wasteful, and already contributing to climate change to a level that can appear in charts. It will only get worse the higher the price is, because miners can afford to use more electricity.\", ' @Alberto T.   Incorrect. The majority of energy used for Bitcoin mining is already from renewable energy sources. In terms of profit potential, bitcoin mining is designed in such a way that implicitly requires the necessity for cheap, renewable forms of energy production. And thus, Bitcoin mining actually incentivizes the need for advancements in technology for renewables and that is exactly what is currently being done. We will look back on this one day and realize that something as controversial as bitcoin mining turned out to be the technological catalyst the planet needed all along.', \" @Alberto T.  And what about inflationary currencies?  There may be unforeseen consequences due to the energy expenditure, but I feel that pales in comparison to the gymnastics that fiat currencies have given rise too.  If the result is sound money that prevents the manipulation of central banks, then it might be a price worth paying.  Just food for thought.  Governments WILL use the climate as an excuse to restrict access to private citizens' crypto.\\nI agree we need better energy solutions though.  It may have just been a passing thought, but I think carbon capture is a waste of time from what little I've researched.\", \"volatility is probably because it's not mass adopted yet. but scaling is the problem\", \" @Alberto T.  Why are deflationary currencies bad ?? I don't really understand can you explain\", 'This was excellent and detailed enough for making sense. \\nIt certainly helps being an IT person, knowing the elements already.', 'This is the video that opened the world of crypto for me. Thanks for that!', '📞📲📩', 'fascinating video as always,  I rewatch this second time and still find it very useful to remind me again. did you use only the manim library to create all the animation', '📞📲📩', \"GREAT VIDEO!! Before this I watched some videos about what it is and how cryptocurrency works. But they really couldn't describe how cryptocurrency works. They gave some vague analogies which I really couldn't understand well, Can't really blame them! They might know the thing from core but wouldn't tell it in the video so to make a short and interesting video that will attact and retain viewers. \\n\\nThen I found your video. Hesitated a bit noticing the video length but watched it anyway!  I think Now I REALLY understand the very basics of what crytocurrency is how it works. I still have questions Though I know I very likely wouldn't find answers of those as youtubers are oversimplifying things. But anyway a REALLY GREAT video!! THANKS for doing this!!\", '📩📩📩📩', 'This is by far the best explanation of Bitcoin I have ever seen, many thanks.', '📲📩', \"Great video! I have a question, I have two fraud inquiries on my reports that I would like to get removed. I've seen your video regarding this, but Im still a bit confused. So I know my first step would be making a call with the credit bureau (Experian) but should I also make call what time? And would I be never stop sending a good compny MarKensTech911Com to my friends and people I know regarding any credit situations!\", 'Amazing video. Definitely the best I\\'ve ever seen on Block Chain. I actually feel I kind of understand it now, which is incredible.\\n\\nHowever I still don\\'t understand how the order of the transactions (which could surely lead to someone spending money they don\\'t have, if the ledger placed them in the wrong order) is mitigated by the \"always follow the block chain with the most computation behind it\" methodology.\\n\\nAnd also what happens if someone trusts a block chain that\\'s later replaced by another. (I mean I know the video says that you should wait for a few blocks to follow to ensure you can trust it, but there must be occasional holes in that method where a trusted line suddenly has gotten replaced?).', 'I\\'m not sure if this will exactly answer your question, but transactions don\\'t really have an \"order\". Whenever you make one, you are really putting it into a pool of transactions waiting to be confirmed (which happens by the transactions being put down on blocks by miners at some point. And yes, miners get to choose which transactions they put on a block, but they can\\'t ever put one down that was already on a previous block). You wouldn\\'t be able to spend money you didn\\'t have, because you wouldn\\'t have the money until the transaction giving you the money was confirmed. Really, the order of transactions confirmed shouldn\\'t matter at all, when adding new blocks. \\nI feel like this is something 3Blue1Brown misses in his video, because it\\'s a little bit unclear that he means computational methodology sets the order, not that transactions are put down in the same order as they are requested. Following proof of work is just a way to keep everyone synced up. \\n\\nFor your second question, (and I\\'m not an expert so take this with a grain of salt), in an ordinary situation, multiple block chains usually aren\\'t created. If two miners happen to create different blocks chaining off the same original block, the one that was created first will be accepted, and there would only be one chain to continue with. The miner with the losing block doesn\\'t receive any extra currency for their efforts, and their block is discarded.\\nIf you\\'re thinking of his example with a fraudulent block, other miners don\\'t see the fraudulent one, so they will never add onto it. This means, as said in the video, someone creating a fraudulent block would be the only one adding onto it. This means they would have to consistently out-compete all the other miners, time-wise, in order to get their fraudulent chain accepted. Think of being the fastest one to create a block as winning a lottery. Continuously being the fastest one would be like winning the lottery over and over. The number of blocks required to select one chain as the valid one is simply a number where the chance of winning the lottery that many times would essentially be 0. While theoretically, someone could slip through with a fraudulent chain, they\\'d have to be impossibly lucky. Of course, if you had a computer that could somehow process numbers a VERY significant amount faster than the leading technology now, that would change...', 'In the bitcoin blockchain once a block is mined it takes 100 blocks following for the miner to be able to access their coins, so after 100 blocks (which is about 16 hours and 40 minutes) that block is seen to be valid and in the valid blockchain.', 'I love how you subtly touched P vs. NP in the process:)', '📞📲📩', 'probably one of the best explanations of the blockchain that i have seen', 'Best video on block chain. I finally understand, at least in some extent, how this hole thing works. Thank you! 😉', '📲', \"You have no idea how much I've tried to find an article or video actually explaining how cryptocurrencies work. Everyone else just goes around with analogies. They probably don't understand fully themselves. Thanks man.\", \"6:20 it's not that huge a number giving current computing power. Not to mention there is no global standard any of this is based on.  As soon as 256 bit hash collisions come into the public view like it did for SHA-1 just a few years ago the ledger will start suffering from fake transactions.  Then you might as well hire people to watch these transactions manually.  Maybe get some type of insurance on losses.  Then maybe realize that all vulneribilities from the hardware layer to the software layer means you can lose all your money so setup a system to ensure the key exchange is secure, like a network of quantum key exchanges.  After all this maybe BitCoin and the like can be safer, you know... like a bank.\", ' @Kiana Sheibani  And if you could calculate 52 quintillion hashes per second?', \" @Erdem Memisyazici  I believe you don't really know what you are talking about.\", ' @Andy B  Okay.', 'Erdem Memisyazici I’m pretty sure 52 quintillion hashes per second is slower than the Planck time Bijan gave you (about 10^43 hashes per second, compared to your 5.2*10^19), so you would take even longer.', 'Erdem Memisyazici   Kinda like a bank ~ I mean a privately owned bank that enters  + & - on a ledger no one but priv bank sees?  No gold backing up our deposits and bank pronts all money 💰 they want with Fed Reserv (also privately owned) pos to be accepted by bank & is not legal until priv bank agrees to it being so?  Really corrupt system ~ kinda like the Church/vatican /BIBLE', 'Bijan Sheibani ~ simply w/bitcoin security ~ wondering with AI -and AI Robot Technology has AI been used to check if it can detect weaknesses?', 'Erdem Memisyazici - how fast is AI pc’s able to calculate hash per second?', 'Can you tell me the synopsis of how Bitcoin actually generates money/wealth? By solving math in short? But for who and why this generates wealth?', \" @Erdem Memisyazici  I have no fucking clue what a quintillion is, use scientific notation for big numbers, normie. But whatever you mean by 52 quintillion, it's probably less than a second in planck units. That's like 10^43 hashes per second. There is a huge gap between 128 and 256 bit hashes. 128 bit hashes have 2^128 possibilities. Now if you have 2^128 additional possibilities for each possibility of the original 128bit hash, you have the 256 bit hash. It's just ridiculously larger.\", \"I can't remember when last I used physical machines for mining. I will stick with tech host farms' cloud mining services they are the best.\", 'Hey, thanks for the awesome tutorial. I have 1 question, can it happen that a true transaction gets rejected?', 'It would happen if no miners included your transaction in their block (for example, if you were offering such a small transaction fee that they always had juicier choices- generally, only between 1600 and 2200 transactions fit in each block). When this happens, you have a few options: wait for the next block and try again, increase your bid to try to get a miner to pick your transaction up this block, or look into other options (like cash, debit, another cryptocurrency, or experimental off-chain resolution that some programmers are trying to work on)', 'Depends what you mean by \"true transaction\". Bitcoin is not actually used as a currency because your transaction has to include a big tip to miners or they won\\'t put it in a block. The above comment discusses this also.\\nIt can happen that a true transaction (one that makes it into a block) gets (partially) rejected, but it\\'s extremely rare and unlikely. It\\'s called a fork when some nodes on the network accept the latest block, others don\\'t, yielding effectively 2 blockchains that can grow.', \"great and simple explanation of bitcoin and how it works, thanks for this! new subscriber and can't wait to watch more videos from your channel\", '📞📲📩', 'Thank you so much for the seeds of knowledge you planted in my brain', 'first of all, a really cool video, thank you 3Blue1Brown, always dependable. \\n\\nBut I want to ask, how did the hash 256 function created? my understanding is, there has to be someone that create the function right? and when he create it, he knew the algorithm on how to reverse engineering it. and if yes there is a person / company that create that, didnt they can be able to exploit the system by always finding the hash earlier than others due to they have the key to understand the hash algorithm?\\n\\nthank you', 'It is made by the NSA.\\nIf there is a known way to reverse-engineer it, then it would not be a good hash function and would not be used. If it were broken, a lot more than just bitcoin would become vulnerable.\\n\\nCan try it yourself.', \"If sha-256 is insecure its not just a problem for bitcoin, it is a problem for everything - governments & banks use this hashing system so if there was a security vulnerability loads of important info in the world would be compromised, so you shouldn't worry about bitcoin relying on a certain hashing function since everything relies on this one hashing function.\", 'Whoever did this:\\nThank you.\\nI wish I had you working with me!', '📲📩📩📩', \"Great video! I have a question, I have two fraud inquiries on my reports that I would like to get removed. I've seen your video regarding this, but Im still a bit confused. So I know my first step would be making a call with the credit bureau (Experian) but should I also make call what time? And would I be never stop sending a good compny MarKensTech911Com to my friends and people I know regarding any credit situations!\", 'The market keeps growing daily with new strategies on how we can make it work for us for long periods of time , I’m glad I finally started my invstment, can’t wait to see how this all turns out', 'Using Virtual crypto mines', 'This was my first steps into the Cryptocurrency world and for the first time when trading I have felt confident in my decisions. I have made 3 times on my trading capital under 3 months and with the market making large moves and the support and mentoring I get from Virtualcryptomines🪐com I am going for even bigger goals. Platinum Academy has provided me the support I needed to really make my trading better. I’m also thinking of taking their Forex course next year so I have more eggs in more baskets.', 'As a first timer venturing into cryptocurrency investments, this course has been fairly insightful as it covers all the basics of understanding cryptocurrency markets and the relevant chart analysis techniques. The 1-2-1 sessions were well thought out and composed in an easy to digest manner. Kudos VIRTUALCRYPTOMINES🟡COM for making things easily understandable, Overall, it is a very solid Cryptocurrency Programme that I would recommend to anyone interested in learning the fundamentals of cryptocurrency and market chart analysis.', 'Right ! . Real Investors will tell you the heights at which virtual crypto mines have come', 'Wow. This was special. I really enjoyed this detailed explanation and the accompanying video about the SHA hashes. Thank you for sharing.', 'busyrand i', 'exceptional explanation, thank you!', 'Just saw that this had been renamed to be more accurate, since other cryptocurrencies work differently. I was literally just thinking about that issue with this video a week or so ago. (I saw this video the year it was released.)', '📞📲📩', 'Such a beautiful Chanel,  I appreciate for all this pure, precise  and precious information that you put together,  I am really fascinated with level of your  mathematics knowledge and how you simply and understandibly  illustrate it, I used your video to learn about vectors, it was wonderfully explained/tought,  I am big fan of you, thank you.', 'This video is very informative especially to someone who is trying to research cryptocurrency as well! Thank you for this!', 'As a first timer venturing into cryptocurrency investments, this course has been fairly insightful as it covers all the basics of understanding cryptocurrency markets and the relevant chart analysis techniques. The 1-2-1 sessions were well thought out and composed in an easy to digest manner. Kudos VIRTUALCRYPTOMINES🟡COM for making things easily understandable, Overall, it is a very solid Cryptocurrency Programme that I would recommend to anyone interested in learning the fundamentals of cryptocurrency and market chart analysis.', 'Right ! . Real Investors will tell you the heights at which virtual crypto mines have come', \"That's the more reason VirtualCryptoMines is still my favorite investor he guides me and still give me all the information I have to know about Bitcoin and other crypto currency.\", 'This is a Scam\\nRead the Pinned Comment for More', 'Fabulous and concise video. Thank you.', \"@3Blue1Brown Ten minutes times 210,000 is about five months (145 days and 20 hours), so there's that.\", 'one of the clearest explanation. Thank a lot bro!', '📩📩📩📩', 'Excellent work and most informative video about Crypto. 👍', 'Big thanks to the man that have good feeling for the poor and also give life back to those that loose hope🔦🔦🔦', \"I've seen alot of videos related to this but this one is really informational.\", \"Finally understand the principles. I've watched a number of videos and even read a book. I'm either a slow learner, this is a great video, or both!\", \"Thank you for your comment on this video, we'll keep helping you make better trade as much as we can.\", 'The software \"TeamSpeak\" also uses proof of work as a security level, the higher, the more unlikely you are some spammer. But it was built to run on a single CPU core from 10 years ago. And it measures how many hours/days/weeks it would take to get to a level. So I wrote a solver that runs on my GPU which gets me the weeks level in minutes.\\nI didn\\'t make the connection to Bitcoin until now.', 'One of the best videos so far I have come across that explains the technicality. I just love it. Thank you for this wonderful video.', '📞📲📩', \"Thank you very much. I have been wanting to understand blockchain for a really long time. Your YouTube video was really helpful and fun to watch. You are really good at explaining the complicated stuff in a lucid way. You've got yourself a new subscriber.  😁\"]\n"
     ]
    }
   ],
   "source": [
    "# gather reply data\n",
    "replies_1 = []\n",
    "find_reply = driver.find_elements(By.XPATH, value = '//*[@id=\"content-text\"]')\n",
    "\n",
    "for replies in find_reply:\n",
    "    replies_1.append(replies.text)\n",
    "    \n",
    "\n",
    "print(len(replies_1))\n",
    "print(replies_1)"
   ]
  },
  {
   "cell_type": "code",
   "execution_count": 37,
   "id": "cb6f0a3f",
   "metadata": {},
   "outputs": [],
   "source": [
    "#reply_authors = []\n",
    "#find_reply_author = []\n",
    "#find_reply_author = driver.find_elements(By.XPATH, value = '/html/body/ytd-app/div[1]/ytd-page-manager/ytd-watch-flexy/div[5]/div[1]/div/ytd-comments/ytd-item-section-renderer/div/ytd-comment-thread-renderer/div/ytd-comment-replies-renderer/div/div/div/ytd-comment-renderer/div[3]/div[2]/div/div[2]/h3/a')\n",
    "\n",
    "#for author in find_reply_author:\n",
    "#    reply_authors.append(author.text)\n",
    "\n",
    "#print(len(reply_authors))\n",
    "#print(reply_authors)"
   ]
  },
  {
   "cell_type": "code",
   "execution_count": 38,
   "id": "3a42fcf5",
   "metadata": {},
   "outputs": [
    {
     "name": "stdout",
     "output_type": "stream",
     "text": [
      "171\n",
      "['', 'Samuel Luce', 'Rjley Kassya', 'Onions?', 'Caden', 'Roland Dennis', 'Roland Dennis', 'S. Giles', 'Caden', 'joe schultz', 'Rhodium Thunderbird', 'Harsh Chikorde', 'Vikas V', 'iTr00oW', 'Gian', 'The Optimist', 'Pumpkin Man', 'Stephan Stross', 'surferriness', 'Vasquez Electronics', 'TheAwesomeDudeGuy', 'Kris', 'Shubham Joshi', 'A M', 'Hynek Zemanec', 'David Levesque', 'gamewizl', 'Tushar Menon', '', 'Christian Peters', 'meiamsome', 'Christian Peters', 'Tyko Brian', 'Rumford Chimpenstein', 'Nathan Richan', 'Scalz', 'vRoxyy', 'OOO', 'James Matthew', 'Mike Fochtman', 'Henry Green', 'Hire 👉🌐EagleSpy . Net', 'Jeremiah Price', 'Make use of thespacehackersCom👈🏻', 'Alberto T.', 'Rrestoring faith', 'Khaled Ratul', 'Khaled Ratul', 'Carson Allaby', 'ashok845', 'Kader Galip', 'Dan Traficonte', 'H R', 'Jack Frederiksen', 'ganondorfchampin', 'ILIKETURTLES', 'yoel haile', 'LTCAproductions', 'J3GJ', 'IncomeSourcer', 'J3GJ', 'IncomeSourcer', 'J3GJ', 'David Nguyen', 'Spencer Rajam', 'James Matthew', 'Laukik Ragji', 'whatsapp±①④⓪⑦⑧④⑧⑤⑤⑨①', 'lotroy', 'whatsapp±①④⓪⑦⑧④⑧⑤⑤⑨①', 'Frank williams', 'whatsapp±①④⓪⑦⑧④⑧⑤⑤⑨①', 'Robin Tunley', 'Cesar Moreno', 'Scott Lane', 'y', 'awd', 'awd', 'Data Science', 'Jessic kidopolis', 'M H-W', 'steven cooke', 'Galactea', 'robert Yeung', '𝙒𝙒𝙒●𝘾𝙍𝙀𝘿𝙄𝙏𝘽𝘼𝘾𝙆𝘿𝙊𝙊𝙍𝙎●𝘾𝙊𝙈', 'whatsapp±①④⓪⑦⑧④⑧⑤⑤⑨①', 'Crabby Hayes', 'Theo Pantamis', 'Crabby Hayes', 'Theo Pantamis', 'LisaAlbert::::::::::hackerrambosmart1 On telegram', 'Bayesic', '十①④⑧⓪③⑤⑨④⑦①⑤WhatsappAdmin', '十①④⑧⓪③⑤⑨④⑦①⑤WhatsappAdmin', 'Matthew Snee', 'Alberto T.', 'Chem Man Dan', 'Arthur Kania', 'Victor Iațco', 'STAsi0 23', 'sormu16', 'Andrei Antonescu', 'whatsapp±①④⓪⑦⑧④⑧⑤⑤⑨①', 'Ahmad Syarif', 'whatsapp±①④⓪⑦⑧④⑧⑤⑤⑨①', 'Biswajit Basak', 'whatsapp±①④⓪⑦⑧④⑧⑤⑤⑨①', 'Andreas Rohrer', 'whatsapp±①④⓪⑦⑧④⑧⑤⑤⑨①', 'RachMc95', 'Johnny W', 'big clover', 'Daniel Cawley', 'Marek P', 'whatsapp±①④⓪⑦⑧④⑧⑤⑤⑨①', 'Jordan Z', 'Nikola Gushterov', 'whatsapp±①④⓪⑦⑧④⑧⑤⑤⑨①', 'Bamba Zillah', 'Erdem Memisyazici', 'Erdem Memisyazici', 'Andy B', 'Erdem Memisyazici', 'K1naku5ana3R1ka', 'Georgi DROLET', 'Georgi DROLET', 'Georgi DROLET', 'Nikolaos Mark', 'Zoltán Kürti', 'Geldi Oyunların Prosu', 'Sagar Tyagi', 'James Edington', 'JMacSD', 'RW Aquarium Pages', 'whatsapp±①④⓪⑦⑧④⑧⑤⑤⑨①', 'Kadek Satriadi', 'Rizki Rahmanda', 'Rrestoring faith', 'Daniel Cawley', 'Combat Douglas', 'whatsapp±①④⓪⑦⑧④⑧⑤⑤⑨①', 'RachMc95', 'J Payne', 'J Payne', 'Life with Rosana', 'vivek k', 'Michael Bradley', 'busyrand', 'μ', 'Mark Vartanyan', 'Jim Greene', 'whatsapp±①④⓪⑦⑧④⑧⑤⑤⑨①', 'mehrdad jam', 'GCrypto Gaming', 'vivek k', 'Michael Bradley', 'David Never Sleeps', 'WarHammer3', 'Nizam Khan', 'meta04', 'สุเมธ สุเมธเทพานันท์', 'whatsapp±①④⓪⑦⑧④⑧⑤⑤⑨①', 'A Nayak', 'Rubiales Contact HACKERCYBERGHOSTon telegram', 'Carolyn Oconnor', 'Ben Donahower', 'Warrior Trading', 'Dedmen Miller', 'CHITUS💙⸻⸻⸻⸻⸻⸻⸻⸻⸻⸻⸻⸻⸻⸻⸻⸻⸻⸻⸻⸻⸻⸻⸻⸻⸻⸻⸻⸻⸻⸻⸻⸻⸻⸻⸻⸻⸻⸻⸻⸻⸻⸻', 'whatsapp±①④⓪⑦⑧④⑧⑤⑤⑨①', 'Abhay Gautam']\n"
     ]
    }
   ],
   "source": [
    "# tbd later, to discern replies from original comments, if the string is empty -> it means thats an original comment\n",
    "# idea: append to the df and then encode: if isempty() then original comment, else -> reply\n",
    "reply_authors = []\n",
    "find_reply_author = []\n",
    "find_reply_author = driver.find_elements(By.XPATH, value = '//*[@id=\"author-text\"]/span')\n",
    "\n",
    "for author in find_reply_author:\n",
    "    reply_authors.append(author.text)\n",
    "\n",
    "print(len(reply_authors))\n",
    "print(reply_authors)"
   ]
  },
  {
   "cell_type": "code",
   "execution_count": 39,
   "id": "4e141444",
   "metadata": {},
   "outputs": [
    {
     "name": "stdout",
     "output_type": "stream",
     "text": [
      "171\n",
      "['8.2K', '246', '1', '39', '114', '2', '', '11', '7', '17', '61', '1.9K', '23', '20', '5', '5', '6', '42', '11', '6', '2', '46', '5', '', '9', '3', '4', '143', '250', '61', '14', '15', '5', '7', '37', '', '7', '3', '1', '', '1', '703', '1', '2', '10', '5', '1', '', '', '', '', '18', '5.5K', '115', '152', '31', '2', '68', '25', '58', '6', '30', '6', '', '1', '1', '4', '', '1', '', '1', '', '25', '6.6K', '78', '30', '6', '2', '7', '4', '', '6', '3', '5', '', '', '', '', '', '', '1', '1', '', '', '27', '14', '8', '1', '', '', '15', '1', '', '', '', '', '', '', '', '', '14', '13', '2', '2', '', '', '', '', '1.5K', '12', '', '67', '2', '12', '', '', '', '6', '9', '84', '1', '', '', '2', '', '24', '', '2', '', '1', '', '', '386', '', '', '', '', '65', '', '1', '', '', '10', '20', '410', '', '', '2', '260', '3', '1', '', '1', '', '', '46', '', '1', '1', '', '4']\n"
     ]
    }
   ],
   "source": [
    "# get likes\n",
    "likes = []\n",
    "find_likes = driver.find_elements(by=By.XPATH, value='//*[@id=\"vote-count-middle\"]')\n",
    "for like in find_likes:\n",
    "    likes.append(like.text)\n",
    "    \n",
    "print(len(likes))\n",
    "print(likes)"
   ]
  },
  {
   "cell_type": "code",
   "execution_count": 40,
   "id": "167baf77",
   "metadata": {},
   "outputs": [
    {
     "name": "stdout",
     "output_type": "stream",
     "text": [
      "171\n"
     ]
    },
    {
     "data": {
      "text/plain": [
       "['1 year ago (edited)',\n",
       " '1 year ago',\n",
       " '1 year ago',\n",
       " '1 year ago',\n",
       " '1 year ago',\n",
       " '1 year ago',\n",
       " '1 year ago',\n",
       " '1 year ago',\n",
       " '1 year ago',\n",
       " '1 year ago',\n",
       " '1 year ago',\n",
       " '4 years ago (edited)',\n",
       " '4 years ago',\n",
       " '4 years ago',\n",
       " '4 years ago',\n",
       " '4 years ago',\n",
       " '4 years ago',\n",
       " '4 years ago',\n",
       " '4 years ago',\n",
       " '4 years ago',\n",
       " '4 years ago',\n",
       " '4 years ago',\n",
       " '5 days ago',\n",
       " '2 hours ago',\n",
       " '2 weeks ago',\n",
       " '1 month ago',\n",
       " '1 month ago',\n",
       " '4 years ago',\n",
       " '4 years ago',\n",
       " '4 years ago',\n",
       " '4 years ago',\n",
       " '4 years ago',\n",
       " '4 years ago',\n",
       " '4 years ago',\n",
       " '4 years ago (edited)',\n",
       " '4 years ago',\n",
       " '3 months ago',\n",
       " '3 months ago',\n",
       " '3 months ago',\n",
       " '2 months ago',\n",
       " '3 weeks ago (edited)',\n",
       " '5 months ago',\n",
       " '5 months ago',\n",
       " '4 months ago',\n",
       " '4 months ago',\n",
       " '4 months ago (edited)',\n",
       " '4 months ago',\n",
       " '4 months ago',\n",
       " '4 months ago',\n",
       " '2 months ago',\n",
       " '1 month ago',\n",
       " '3 months ago',\n",
       " '1 year ago',\n",
       " '1 year ago',\n",
       " '1 year ago',\n",
       " '1 year ago',\n",
       " '1 year ago',\n",
       " '1 year ago',\n",
       " '1 year ago',\n",
       " '1 year ago',\n",
       " '1 year ago',\n",
       " '1 year ago',\n",
       " '1 year ago',\n",
       " '6 days ago',\n",
       " '3 months ago (edited)',\n",
       " '3 months ago',\n",
       " '5 months ago',\n",
       " '2 months ago',\n",
       " '4 months ago',\n",
       " '2 months ago',\n",
       " '3 months ago',\n",
       " '2 months ago',\n",
       " '1 year ago',\n",
       " '11 months ago',\n",
       " '11 months ago',\n",
       " '11 months ago',\n",
       " '10 months ago',\n",
       " '10 months ago',\n",
       " '10 months ago',\n",
       " '10 months ago',\n",
       " '10 months ago',\n",
       " '10 months ago',\n",
       " '9 months ago',\n",
       " '9 months ago',\n",
       " '2 months ago',\n",
       " '2 months ago',\n",
       " '2 months ago',\n",
       " '1 month ago',\n",
       " '1 month ago',\n",
       " '1 month ago',\n",
       " '1 month ago',\n",
       " '2 months ago',\n",
       " '2 months ago',\n",
       " '2 months ago',\n",
       " '5 months ago',\n",
       " '4 months ago',\n",
       " '4 months ago',\n",
       " '3 months ago',\n",
       " '1 month ago',\n",
       " '1 month ago',\n",
       " '1 year ago',\n",
       " '5 months ago',\n",
       " '2 months ago',\n",
       " '4 months ago',\n",
       " '2 months ago',\n",
       " '2 months ago',\n",
       " '2 months ago',\n",
       " '6 months ago',\n",
       " '2 months ago',\n",
       " '2 months ago',\n",
       " '1 year ago',\n",
       " '1 year ago (edited)',\n",
       " '5 months ago',\n",
       " '5 months ago',\n",
       " '2 months ago',\n",
       " '2 months ago',\n",
       " '4 months ago',\n",
       " '2 months ago',\n",
       " '4 years ago',\n",
       " '3 years ago',\n",
       " '3 years ago',\n",
       " '3 years ago',\n",
       " '3 years ago',\n",
       " '2 years ago',\n",
       " '1 year ago (edited)',\n",
       " '1 year ago',\n",
       " '1 year ago',\n",
       " '1 year ago (edited)',\n",
       " '1 year ago',\n",
       " '3 months ago',\n",
       " '7 months ago',\n",
       " '6 months ago',\n",
       " '4 months ago',\n",
       " '6 months ago',\n",
       " '2 months ago',\n",
       " '4 years ago',\n",
       " '4 months ago',\n",
       " '4 months ago',\n",
       " '4 months ago',\n",
       " '3 months ago (edited)',\n",
       " '2 months ago',\n",
       " '2 months ago',\n",
       " '2 months ago',\n",
       " '2 months ago',\n",
       " '2 months ago',\n",
       " '2 months ago',\n",
       " '2 months ago',\n",
       " '4 years ago',\n",
       " '4 years ago',\n",
       " '1 month ago',\n",
       " '5 months ago',\n",
       " '2 months ago',\n",
       " '6 months ago',\n",
       " '7 months ago',\n",
       " '2 months ago',\n",
       " '2 months ago',\n",
       " '2 months ago',\n",
       " '2 months ago',\n",
       " '4 years ago',\n",
       " '4 years ago',\n",
       " '6 months ago',\n",
       " '2 months ago',\n",
       " '6 months ago',\n",
       " '1 month ago',\n",
       " '2 months ago',\n",
       " '1 year ago',\n",
       " '1 year ago',\n",
       " '4 months ago',\n",
       " '6 months ago',\n",
       " '2 months ago',\n",
       " '5 months ago']"
      ]
     },
     "execution_count": 40,
     "metadata": {},
     "output_type": "execute_result"
    }
   ],
   "source": [
    "# get time stamp\n",
    "time_stamp = []\n",
    "find_time = driver.find_elements(by=By.XPATH, value='//*[@id=\"header-author\"]/yt-formatted-string/a')\n",
    "for date in find_time:\n",
    "    time_stamp.append(date.text)\n",
    "    \n",
    "print(len(time_stamp))\n",
    "time_stamp"
   ]
  },
  {
   "cell_type": "code",
   "execution_count": 41,
   "id": "automated-vertical",
   "metadata": {},
   "outputs": [
    {
     "name": "stdout",
     "output_type": "stream",
     "text": [
      "171\n",
      "171\n",
      "171\n",
      "171\n"
     ]
    }
   ],
   "source": [
    "# check length of arrays before dump into dataframe \n",
    "print(len(comments))\n",
    "print(len(time_stamp))\n",
    "print(len(users))\n",
    "print(len(likes))"
   ]
  },
  {
   "cell_type": "code",
   "execution_count": 42,
   "id": "normal-preference",
   "metadata": {},
   "outputs": [],
   "source": [
    "# remove empty string\n",
    "#users_tmp = [user for user in users if len(user)>=1 ] \n",
    "#print(len(users_tmp))\n",
    "#time_stamp_tmp = [timestamp for timestamp in time_stamp if len(timestamp)>=1 ] \n",
    "#print(len(time_stamp_tmp))"
   ]
  },
  {
   "cell_type": "code",
   "execution_count": 43,
   "id": "587177d6",
   "metadata": {},
   "outputs": [
    {
     "data": {
      "text/plain": [
       "'If you see comments here about investing or brokers, they are scams.  Videos about cryptocurrencies, evidently including ones that are just about the underlying technology/math, are hotbeds for attracting nefarious actors preying on the impressionable.\\n\\nAlso, hi!  If you’re new to this channel, most of it is about visualizing math. I get it, you probably landed here searching for how BTC works, not to spend your afternoon getting pulled into learning about, say, prime numbers or problem-solving, but if you have a moment take a look at the rest of the channel, you may enjoy what you find.'"
      ]
     },
     "execution_count": 43,
     "metadata": {},
     "output_type": "execute_result"
    }
   ],
   "source": [
    "# jump back to top\n",
    "element = driver.find_element(by=By.XPATH, value='//*[@id=\"sort-menu\"]/yt-sort-filter-sub-menu-renderer/yt-dropdown-menu/tp-yt-paper-menu-button')\n",
    "actions = ActionChains(driver)\n",
    "actions.move_to_element(element).perform()\n",
    "comments[0]"
   ]
  },
  {
   "cell_type": "code",
   "execution_count": 44,
   "id": "4a9a6a62",
   "metadata": {},
   "outputs": [
    {
     "data": {
      "text/plain": [
       "\"I'd recommend not just reporting, but also replying to them, explaining to any potential readers how their advertisement is a scam. Commenting is quick, and could save somebody hundreds of dollars! :)\""
      ]
     },
     "execution_count": 44,
     "metadata": {},
     "output_type": "execute_result"
    }
   ],
   "source": [
    "# remove \\n strings to avoid wrong display in output\n",
    "comments_cleaned = []\n",
    "for cmt in comments:\n",
    "    clean_cmt = cmt.replace(\"\\n\",\"\")#--> replace \\n by whitespace\n",
    "    clean_cmt.strip(\" \") #--> remove unncessary whitespaces\n",
    "    comments_cleaned.append(clean_cmt)\n",
    "    \n",
    "comments_cleaned[1]"
   ]
  },
  {
   "cell_type": "code",
   "execution_count": 45,
   "id": "c881b5c3",
   "metadata": {},
   "outputs": [],
   "source": [
    "users_cleaned = []\n",
    "for user in users:\n",
    "    clean_cmt = user.replace(\"\\n\",\"\")#--> replace \\n by whitespace\n",
    "    clean_cmt = clean_cmt.strip(\" \") #--> remove unncessary whitespaces\n",
    "    clean_cmt = clean_cmt.rstrip(\"⸻\")\n",
    "    users_cleaned.append(clean_cmt)\n",
    "    "
   ]
  },
  {
   "cell_type": "code",
   "execution_count": 46,
   "id": "b6d49f0b",
   "metadata": {},
   "outputs": [
    {
     "data": {
      "text/plain": [
       "'Onions?'"
      ]
     },
     "execution_count": 46,
     "metadata": {},
     "output_type": "execute_result"
    }
   ],
   "source": [
    "users_cleaned[3]"
   ]
  },
  {
   "cell_type": "code",
   "execution_count": 47,
   "id": "exact-satellite",
   "metadata": {},
   "outputs": [
    {
     "data": {
      "text/html": [
       "<div>\n",
       "<style scoped>\n",
       "    .dataframe tbody tr th:only-of-type {\n",
       "        vertical-align: middle;\n",
       "    }\n",
       "\n",
       "    .dataframe tbody tr th {\n",
       "        vertical-align: top;\n",
       "    }\n",
       "\n",
       "    .dataframe thead th {\n",
       "        text-align: right;\n",
       "    }\n",
       "</style>\n",
       "<table border=\"1\" class=\"dataframe\">\n",
       "  <thead>\n",
       "    <tr style=\"text-align: right;\">\n",
       "      <th></th>\n",
       "      <th>User</th>\n",
       "      <th>Comment</th>\n",
       "      <th>Likes</th>\n",
       "      <th>Time</th>\n",
       "    </tr>\n",
       "  </thead>\n",
       "  <tbody>\n",
       "    <tr>\n",
       "      <th>0</th>\n",
       "      <td>3Blue1Brown</td>\n",
       "      <td>If you see comments here about investing or br...</td>\n",
       "      <td>8.2K</td>\n",
       "      <td>1 year ago (edited)</td>\n",
       "    </tr>\n",
       "    <tr>\n",
       "      <th>1</th>\n",
       "      <td>Samuel Luce</td>\n",
       "      <td>I'd recommend not just reporting, but also rep...</td>\n",
       "      <td>246</td>\n",
       "      <td>1 year ago</td>\n",
       "    </tr>\n",
       "    <tr>\n",
       "      <th>2</th>\n",
       "      <td>Rjley Kassya</td>\n",
       "      <td>Thank you so much Lisa</td>\n",
       "      <td>1</td>\n",
       "      <td>1 year ago</td>\n",
       "    </tr>\n",
       "    <tr>\n",
       "      <th>3</th>\n",
       "      <td>Onions?</td>\n",
       "      <td>Only a matter of time before scammers come her...</td>\n",
       "      <td>39</td>\n",
       "      <td>1 year ago</td>\n",
       "    </tr>\n",
       "    <tr>\n",
       "      <th>4</th>\n",
       "      <td>Caden</td>\n",
       "      <td>Wow I’m already seeing scams scrolling through...</td>\n",
       "      <td>114</td>\n",
       "      <td>1 year ago</td>\n",
       "    </tr>\n",
       "    <tr>\n",
       "      <th>...</th>\n",
       "      <td>...</td>\n",
       "      <td>...</td>\n",
       "      <td>...</td>\n",
       "      <td>...</td>\n",
       "    </tr>\n",
       "    <tr>\n",
       "      <th>166</th>\n",
       "      <td>Warrior Trading</td>\n",
       "      <td>Thank you for your comment on this video, we'l...</td>\n",
       "      <td></td>\n",
       "      <td>1 year ago</td>\n",
       "    </tr>\n",
       "    <tr>\n",
       "      <th>167</th>\n",
       "      <td>Dedmen Miller</td>\n",
       "      <td>The software \"TeamSpeak\" also uses proof of wo...</td>\n",
       "      <td>1</td>\n",
       "      <td>4 months ago</td>\n",
       "    </tr>\n",
       "    <tr>\n",
       "      <th>168</th>\n",
       "      <td>CHITUS💙</td>\n",
       "      <td>One of the best videos so far I have come acro...</td>\n",
       "      <td>1</td>\n",
       "      <td>6 months ago</td>\n",
       "    </tr>\n",
       "    <tr>\n",
       "      <th>169</th>\n",
       "      <td>whatsapp±①④⓪⑦⑧④⑧⑤⑤⑨①</td>\n",
       "      <td>📞📲📩</td>\n",
       "      <td></td>\n",
       "      <td>2 months ago</td>\n",
       "    </tr>\n",
       "    <tr>\n",
       "      <th>170</th>\n",
       "      <td>Abhay Gautam</td>\n",
       "      <td>Thank you very much. I have been wanting to un...</td>\n",
       "      <td>4</td>\n",
       "      <td>5 months ago</td>\n",
       "    </tr>\n",
       "  </tbody>\n",
       "</table>\n",
       "<p>171 rows × 4 columns</p>\n",
       "</div>"
      ],
      "text/plain": [
       "                     User                                            Comment  \\\n",
       "0             3Blue1Brown  If you see comments here about investing or br...   \n",
       "1             Samuel Luce  I'd recommend not just reporting, but also rep...   \n",
       "2            Rjley Kassya                             Thank you so much Lisa   \n",
       "3                 Onions?  Only a matter of time before scammers come her...   \n",
       "4                   Caden  Wow I’m already seeing scams scrolling through...   \n",
       "..                    ...                                                ...   \n",
       "166       Warrior Trading  Thank you for your comment on this video, we'l...   \n",
       "167         Dedmen Miller  The software \"TeamSpeak\" also uses proof of wo...   \n",
       "168               CHITUS💙  One of the best videos so far I have come acro...   \n",
       "169  whatsapp±①④⓪⑦⑧④⑧⑤⑤⑨①                                                📞📲📩   \n",
       "170          Abhay Gautam  Thank you very much. I have been wanting to un...   \n",
       "\n",
       "    Likes                 Time  \n",
       "0    8.2K  1 year ago (edited)  \n",
       "1     246           1 year ago  \n",
       "2       1           1 year ago  \n",
       "3      39           1 year ago  \n",
       "4     114           1 year ago  \n",
       "..    ...                  ...  \n",
       "166                 1 year ago  \n",
       "167     1         4 months ago  \n",
       "168     1         6 months ago  \n",
       "169               2 months ago  \n",
       "170     4         5 months ago  \n",
       "\n",
       "[171 rows x 4 columns]"
      ]
     },
     "execution_count": 47,
     "metadata": {},
     "output_type": "execute_result"
    }
   ],
   "source": [
    "# store info in a dataframe\n",
    "data = {'User': users_cleaned, 'Comment': comments_cleaned, 'Likes': likes, 'Time': time_stamp}\n",
    "df = pd.DataFrame(data)\n",
    "df"
   ]
  },
  {
   "cell_type": "code",
   "execution_count": 48,
   "id": "secure-strengthening",
   "metadata": {},
   "outputs": [],
   "source": [
    "# save info to csv file\n",
    "df.to_csv('But how does bitcoin actually work.csv', index=False, encoding='utf-8', sep = \";\")\n",
    "# additionaly, create a pickle dump\n",
    "import pickle\n",
    "df.to_pickle('But how does bitcoin actually work.pkl')"
   ]
  },
  {
   "cell_type": "code",
   "execution_count": 49,
   "id": "4fd6d4e4",
   "metadata": {},
   "outputs": [],
   "source": [
    "# close the driver\n",
    "driver.close()"
   ]
  }
 ],
 "metadata": {
  "kernelspec": {
   "display_name": "Python 3 (ipykernel)",
   "language": "python",
   "name": "python3"
  },
  "language_info": {
   "codemirror_mode": {
    "name": "ipython",
    "version": 3
   },
   "file_extension": ".py",
   "mimetype": "text/x-python",
   "name": "python",
   "nbconvert_exporter": "python",
   "pygments_lexer": "ipython3",
   "version": "3.10.5"
  }
 },
 "nbformat": 4,
 "nbformat_minor": 5
}
